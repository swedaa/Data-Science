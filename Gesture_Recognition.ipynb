{
  "nbformat": 4,
  "nbformat_minor": 0,
  "metadata": {
    "colab": {
      "provenance": [],
      "authorship_tag": "ABX9TyNW1E8lepwiasvxBF99fmmV",
      "include_colab_link": true
    },
    "kernelspec": {
      "display_name": "Python 3",
      "name": "python3"
    },
    "language_info": {
      "name": "python"
    }
  },
  "cells": [
    {
      "cell_type": "markdown",
      "metadata": {
        "id": "view-in-github",
        "colab_type": "text"
      },
      "source": [
        "<a href=\"https://colab.research.google.com/github/swedaa/DS-NLP/blob/main/Gesture_Recognition.ipynb\" target=\"_parent\"><img src=\"https://colab.research.google.com/assets/colab-badge.svg\" alt=\"Open In Colab\"/></a>"
      ]
    },
    {
      "cell_type": "code",
      "metadata": {
        "id": "oIqbv589JY-a",
        "colab": {
          "base_uri": "https://localhost:8080/"
        },
        "outputId": "31b41dec-042d-4e39-95cf-a0512c36effc"
      },
      "source": [
        "from google.colab import drive\n",
        "drive.mount('/content/drive')"
      ],
      "execution_count": null,
      "outputs": [
        {
          "output_type": "stream",
          "text": [
            "Drive already mounted at /content/drive; to attempt to forcibly remount, call drive.mount(\"/content/drive\", force_remount=True).\n"
          ],
          "name": "stdout"
        }
      ]
    },
    {
      "cell_type": "markdown",
      "metadata": {
        "id": "_vMuqfeLTPDu"
      },
      "source": [
        "### Importing required libraries"
      ]
    },
    {
      "cell_type": "code",
      "metadata": {
        "id": "oqlxjIsvIYQq"
      },
      "source": [
        "# DATA PREPARATION\n",
        "\n",
        "import os\n",
        "import pandas as pd\n",
        "import numpy as np\n",
        "\n",
        "from scipy.stats import norm, kurtosis\n",
        "from scipy.stats import skew\n",
        "\n",
        "import warnings\n",
        "warnings.filterwarnings(\"ignore\",category=DeprecationWarning)\n",
        "\n",
        "# MODEL BUILDING\n",
        "\n",
        "# Splitting data into train and test\n",
        "from sklearn.model_selection import train_test_split\n",
        "\n",
        "# Visualization\n",
        "import matplotlib.pyplot as plt\n",
        "\n",
        "# Accuracy score\n",
        "from sklearn.metrics import accuracy_score\n",
        "\n",
        "# DT and RF\n",
        "from sklearn import tree\n",
        "from sklearn.ensemble import RandomForestClassifier\n",
        "\n",
        "# Importing library for KNN\n",
        "from sklearn.neighbors import KNeighborsClassifier\n",
        "\n",
        "# Importing library for logistic regression\n",
        "from sklearn.linear_model import LogisticRegression\n",
        "\n",
        "# Importing library for SVM\n",
        "from sklearn import svm\n",
        "from sklearn.svm import SVC\n",
        "\n",
        "# Importing libraries for Grid Search CV\n",
        "from sklearn.model_selection import GridSearchCV"
      ],
      "execution_count": null,
      "outputs": []
    },
    {
      "cell_type": "markdown",
      "metadata": {
        "id": "9l8fi4690uoA"
      },
      "source": [
        "## Data Preparation"
      ]
    },
    {
      "cell_type": "markdown",
      "metadata": {
        "id": "kvFRvHIETVKe"
      },
      "source": [
        "#### Defining a function to calculate the statistical features"
      ]
    },
    {
      "cell_type": "code",
      "metadata": {
        "id": "sTiFFH0cKjHe"
      },
      "source": [
        "# Defining root mean square-(RMS) value\n",
        "def rms_value(arr, n):\n",
        "  import math\n",
        "  square = 0\n",
        "  mean = 0.0\n",
        "  root = 0.0\n",
        "\n",
        "  # Calculate the square\n",
        "  for i in range(0,n):\n",
        "    square += (arr[i]**2)\n",
        "\n",
        "  #Calculate mean\n",
        "  mean = (square / (float)(n))\n",
        "\n",
        "  #Calculate Root\n",
        "  root = math.sqrt(mean)\n",
        "\n",
        "  return root"
      ],
      "execution_count": null,
      "outputs": []
    },
    {
      "cell_type": "code",
      "metadata": {
        "id": "IZvZ7ZE4Kr22"
      },
      "source": [
        "def statistical_features(data):\n",
        "  input_data = data.columns\n",
        "  feature = []\n",
        "  for i in input_data:\n",
        "    mean = data[i].mean()\n",
        "    feature.append(mean)\n",
        "    median = data[i].median()\n",
        "    feature.append(median)\n",
        "    variance = data[i].var()\n",
        "    feature.append(variance)\n",
        "    std_deviation = data[i].std()\n",
        "    feature.append(std_deviation)\n",
        "    skewness = data[i].skew()\n",
        "    feature.append(skewness)\n",
        "    kurtosis = data[i].kurtosis()\n",
        "    feature.append(kurtosis)\n",
        "    rmsValue = rms_value(data[i],len(data[i]))\n",
        "    feature.append(rmsValue)\n",
        "  return feature"
      ],
      "execution_count": null,
      "outputs": []
    },
    {
      "cell_type": "markdown",
      "metadata": {
        "id": "f6iTL-uNTrZV"
      },
      "source": [
        "#### Sampling and Flattening the data"
      ]
    },
    {
      "cell_type": "code",
      "metadata": {
        "id": "hIOyct7KKwbe"
      },
      "source": [
        "def sample_points(data):\n",
        "\n",
        "  df = data.sample(n=10)\n",
        "  col = data.columns\n",
        "  val = []\n",
        "\n",
        "  for i in col:\n",
        "    q = df[i].tolist()\n",
        "    val.append(q)\n",
        "\n",
        "  val = flatten(val)\n",
        "\n",
        "  return val"
      ],
      "execution_count": null,
      "outputs": []
    },
    {
      "cell_type": "code",
      "metadata": {
        "id": "bOSwbBQYKzvE"
      },
      "source": [
        "def flatten(value):\n",
        "  result = []\n",
        "  for sublist in value:\n",
        "    for item in sublist:\n",
        "      result.append(item)\n",
        "  return result"
      ],
      "execution_count": null,
      "outputs": []
    },
    {
      "cell_type": "markdown",
      "metadata": {
        "id": "LKWWQbXYTyaM"
      },
      "source": [
        "### Creating a dataframe"
      ]
    },
    {
      "cell_type": "code",
      "metadata": {
        "id": "9aMYFV6dJqjQ"
      },
      "source": [
        "df = pd.DataFrame(columns=['F'+str(x) for x in range(1,53)])\n",
        "home_path = '/content/drive/MyDrive/Gesture Project /Dataset /gestures-dataset'\n",
        "dir1 = os.listdir(home_path)\n",
        "for root in dir1:\n",
        "  path1 = home_path + '/' + root\n",
        "  dir2 = os.listdir(path1)\n",
        "  for dir in dir2:\n",
        "    path2 = path1 + '/' + dir\n",
        "    dir3 = os.listdir(path2)\n",
        "    for file in dir3:\n",
        "      path3 = path2 + '/' + file\n",
        "      data = pd.read_csv(path3, names = ['T1','T2','T3','x','y','z'], sep=' ')\n",
        "      data = data.drop(data.columns[[0,1,2]],axis=1)\n",
        "      sample = []\n",
        "      stats = statistical_features(data)\n",
        "      point = sample_points(data)\n",
        "      sample = stats+point+[dir]\n",
        "      df_new = pd.DataFrame([sample], columns=['F'+str(x) for x in range (1,53)])\n",
        "      df = pd.concat([df,df_new])"
      ],
      "execution_count": null,
      "outputs": []
    },
    {
      "cell_type": "code",
      "metadata": {
        "id": "YdlGhbWPpIlj"
      },
      "source": [
        "df"
      ],
      "execution_count": null,
      "outputs": []
    },
    {
      "cell_type": "code",
      "metadata": {
        "id": "AnOFUB_X298v",
        "colab": {
          "base_uri": "https://localhost:8080/",
          "height": 437
        },
        "outputId": "da51d1c2-e642-43ee-8996-cb52189a184f"
      },
      "source": [
        "df.reset_index(drop=True)"
      ],
      "execution_count": null,
      "outputs": [
        {
          "output_type": "execute_result",
          "data": {
            "text/html": [
              "<div>\n",
              "<style scoped>\n",
              "    .dataframe tbody tr th:only-of-type {\n",
              "        vertical-align: middle;\n",
              "    }\n",
              "\n",
              "    .dataframe tbody tr th {\n",
              "        vertical-align: top;\n",
              "    }\n",
              "\n",
              "    .dataframe thead th {\n",
              "        text-align: right;\n",
              "    }\n",
              "</style>\n",
              "<table border=\"1\" class=\"dataframe\">\n",
              "  <thead>\n",
              "    <tr style=\"text-align: right;\">\n",
              "      <th></th>\n",
              "      <th>F1</th>\n",
              "      <th>F2</th>\n",
              "      <th>F3</th>\n",
              "      <th>F4</th>\n",
              "      <th>F5</th>\n",
              "      <th>F6</th>\n",
              "      <th>F7</th>\n",
              "      <th>F8</th>\n",
              "      <th>F9</th>\n",
              "      <th>F10</th>\n",
              "      <th>F11</th>\n",
              "      <th>F12</th>\n",
              "      <th>F13</th>\n",
              "      <th>F14</th>\n",
              "      <th>F15</th>\n",
              "      <th>F16</th>\n",
              "      <th>F17</th>\n",
              "      <th>F18</th>\n",
              "      <th>F19</th>\n",
              "      <th>F20</th>\n",
              "      <th>F21</th>\n",
              "      <th>F22</th>\n",
              "      <th>F23</th>\n",
              "      <th>F24</th>\n",
              "      <th>F25</th>\n",
              "      <th>F26</th>\n",
              "      <th>F27</th>\n",
              "      <th>F28</th>\n",
              "      <th>F29</th>\n",
              "      <th>F30</th>\n",
              "      <th>F31</th>\n",
              "      <th>F32</th>\n",
              "      <th>F33</th>\n",
              "      <th>F34</th>\n",
              "      <th>F35</th>\n",
              "      <th>F36</th>\n",
              "      <th>F37</th>\n",
              "      <th>F38</th>\n",
              "      <th>F39</th>\n",
              "      <th>F40</th>\n",
              "      <th>F41</th>\n",
              "      <th>F42</th>\n",
              "      <th>F43</th>\n",
              "      <th>F44</th>\n",
              "      <th>F45</th>\n",
              "      <th>F46</th>\n",
              "      <th>F47</th>\n",
              "      <th>F48</th>\n",
              "      <th>F49</th>\n",
              "      <th>F50</th>\n",
              "      <th>F51</th>\n",
              "      <th>F52</th>\n",
              "    </tr>\n",
              "  </thead>\n",
              "  <tbody>\n",
              "    <tr>\n",
              "      <th>0</th>\n",
              "      <td>4.423208</td>\n",
              "      <td>1.379060</td>\n",
              "      <td>31.458192</td>\n",
              "      <td>5.608760</td>\n",
              "      <td>0.864222</td>\n",
              "      <td>-0.854975</td>\n",
              "      <td>6.994694</td>\n",
              "      <td>-1.716164</td>\n",
              "      <td>-0.919373</td>\n",
              "      <td>6.688860</td>\n",
              "      <td>2.586283</td>\n",
              "      <td>-0.450919</td>\n",
              "      <td>-0.508174</td>\n",
              "      <td>3.031197</td>\n",
              "      <td>8.693187</td>\n",
              "      <td>9.959879</td>\n",
              "      <td>29.353796</td>\n",
              "      <td>5.417914</td>\n",
              "      <td>-0.526808</td>\n",
              "      <td>0.121832</td>\n",
              "      <td>10.147333</td>\n",
              "      <td>0.766145</td>\n",
              "      <td>-0.153229</td>\n",
              "      <td>9.653421</td>\n",
              "      <td>1.379060</td>\n",
              "      <td>12.258313</td>\n",
              "      <td>-0.153229</td>\n",
              "      <td>0.000000</td>\n",
              "      <td>4.443638</td>\n",
              "      <td>1.991976</td>\n",
              "      <td>15.629349</td>\n",
              "      <td>0.153229</td>\n",
              "      <td>-0.919373</td>\n",
              "      <td>-3.677494</td>\n",
              "      <td>-2.298434</td>\n",
              "      <td>0.153229</td>\n",
              "      <td>-0.766145</td>\n",
              "      <td>-1.072602</td>\n",
              "      <td>-6.742072</td>\n",
              "      <td>1.225831</td>\n",
              "      <td>-4.903325</td>\n",
              "      <td>9.959879</td>\n",
              "      <td>10.419566</td>\n",
              "      <td>17.008410</td>\n",
              "      <td>1.838747</td>\n",
              "      <td>12.871228</td>\n",
              "      <td>9.653421</td>\n",
              "      <td>10.113108</td>\n",
              "      <td>-2.604892</td>\n",
              "      <td>1.379060</td>\n",
              "      <td>16.548723</td>\n",
              "      <td>14</td>\n",
              "    </tr>\n",
              "    <tr>\n",
              "      <th>1</th>\n",
              "      <td>5.342581</td>\n",
              "      <td>1.072602</td>\n",
              "      <td>42.295474</td>\n",
              "      <td>6.503497</td>\n",
              "      <td>0.929039</td>\n",
              "      <td>-0.576110</td>\n",
              "      <td>8.247360</td>\n",
              "      <td>-0.663992</td>\n",
              "      <td>-0.766145</td>\n",
              "      <td>3.158498</td>\n",
              "      <td>1.777216</td>\n",
              "      <td>-0.900687</td>\n",
              "      <td>0.578621</td>\n",
              "      <td>1.840874</td>\n",
              "      <td>8.478666</td>\n",
              "      <td>9.959879</td>\n",
              "      <td>28.744007</td>\n",
              "      <td>5.361344</td>\n",
              "      <td>0.134772</td>\n",
              "      <td>0.058926</td>\n",
              "      <td>9.935569</td>\n",
              "      <td>2.145205</td>\n",
              "      <td>0.000000</td>\n",
              "      <td>14.403518</td>\n",
              "      <td>-0.306458</td>\n",
              "      <td>0.919373</td>\n",
              "      <td>0.459687</td>\n",
              "      <td>6.282385</td>\n",
              "      <td>1.072602</td>\n",
              "      <td>10.266337</td>\n",
              "      <td>0.306458</td>\n",
              "      <td>-3.677494</td>\n",
              "      <td>0.766145</td>\n",
              "      <td>-4.596867</td>\n",
              "      <td>0.612916</td>\n",
              "      <td>0.459687</td>\n",
              "      <td>-0.766145</td>\n",
              "      <td>-0.766145</td>\n",
              "      <td>-1.225831</td>\n",
              "      <td>-1.072602</td>\n",
              "      <td>1.838747</td>\n",
              "      <td>-0.919373</td>\n",
              "      <td>10.266337</td>\n",
              "      <td>13.177687</td>\n",
              "      <td>6.895301</td>\n",
              "      <td>9.959879</td>\n",
              "      <td>9.959879</td>\n",
              "      <td>1.379060</td>\n",
              "      <td>5.363012</td>\n",
              "      <td>5.975927</td>\n",
              "      <td>2.145205</td>\n",
              "      <td>14</td>\n",
              "    </tr>\n",
              "    <tr>\n",
              "      <th>2</th>\n",
              "      <td>5.254850</td>\n",
              "      <td>1.532289</td>\n",
              "      <td>34.601631</td>\n",
              "      <td>5.882315</td>\n",
              "      <td>0.815900</td>\n",
              "      <td>-1.062613</td>\n",
              "      <td>7.757557</td>\n",
              "      <td>-3.019511</td>\n",
              "      <td>-2.145205</td>\n",
              "      <td>8.049706</td>\n",
              "      <td>2.837200</td>\n",
              "      <td>-0.525408</td>\n",
              "      <td>-1.138799</td>\n",
              "      <td>4.085785</td>\n",
              "      <td>8.283375</td>\n",
              "      <td>10.113108</td>\n",
              "      <td>27.222462</td>\n",
              "      <td>5.217515</td>\n",
              "      <td>-0.218214</td>\n",
              "      <td>0.969899</td>\n",
              "      <td>9.707494</td>\n",
              "      <td>10.266337</td>\n",
              "      <td>0.459687</td>\n",
              "      <td>2.145205</td>\n",
              "      <td>0.766145</td>\n",
              "      <td>16.855181</td>\n",
              "      <td>10.572795</td>\n",
              "      <td>1.225831</td>\n",
              "      <td>12.258313</td>\n",
              "      <td>-0.153229</td>\n",
              "      <td>0.766145</td>\n",
              "      <td>-8.274362</td>\n",
              "      <td>-0.919373</td>\n",
              "      <td>-6.895301</td>\n",
              "      <td>0.153229</td>\n",
              "      <td>-2.604892</td>\n",
              "      <td>-6.129157</td>\n",
              "      <td>-4.596867</td>\n",
              "      <td>-5.975927</td>\n",
              "      <td>-2.145205</td>\n",
              "      <td>-2.758120</td>\n",
              "      <td>10.419566</td>\n",
              "      <td>6.742072</td>\n",
              "      <td>7.201759</td>\n",
              "      <td>10.266337</td>\n",
              "      <td>15.935806</td>\n",
              "      <td>6.129157</td>\n",
              "      <td>-3.371036</td>\n",
              "      <td>3.983952</td>\n",
              "      <td>8.274362</td>\n",
              "      <td>10.419566</td>\n",
              "      <td>14</td>\n",
              "    </tr>\n",
              "    <tr>\n",
              "      <th>3</th>\n",
              "      <td>5.430049</td>\n",
              "      <td>1.532289</td>\n",
              "      <td>38.533798</td>\n",
              "      <td>6.207560</td>\n",
              "      <td>0.836362</td>\n",
              "      <td>-0.932119</td>\n",
              "      <td>8.100054</td>\n",
              "      <td>-1.551443</td>\n",
              "      <td>-1.072602</td>\n",
              "      <td>4.197671</td>\n",
              "      <td>2.048822</td>\n",
              "      <td>0.011910</td>\n",
              "      <td>-0.716398</td>\n",
              "      <td>2.518391</td>\n",
              "      <td>8.331822</td>\n",
              "      <td>10.036493</td>\n",
              "      <td>24.261344</td>\n",
              "      <td>4.925581</td>\n",
              "      <td>-0.789664</td>\n",
              "      <td>0.530319</td>\n",
              "      <td>9.600222</td>\n",
              "      <td>1.379060</td>\n",
              "      <td>0.766145</td>\n",
              "      <td>13.330915</td>\n",
              "      <td>11.645397</td>\n",
              "      <td>0.306458</td>\n",
              "      <td>0.612916</td>\n",
              "      <td>18.234240</td>\n",
              "      <td>1.072602</td>\n",
              "      <td>0.919373</td>\n",
              "      <td>9.346964</td>\n",
              "      <td>-0.306458</td>\n",
              "      <td>-2.451663</td>\n",
              "      <td>-4.750096</td>\n",
              "      <td>-3.217807</td>\n",
              "      <td>-0.306458</td>\n",
              "      <td>0.153229</td>\n",
              "      <td>-4.750096</td>\n",
              "      <td>-0.919373</td>\n",
              "      <td>-1.225831</td>\n",
              "      <td>-3.677494</td>\n",
              "      <td>10.879252</td>\n",
              "      <td>5.669470</td>\n",
              "      <td>10.419566</td>\n",
              "      <td>4.596867</td>\n",
              "      <td>10.572795</td>\n",
              "      <td>11.032481</td>\n",
              "      <td>15.169662</td>\n",
              "      <td>10.266337</td>\n",
              "      <td>9.806650</td>\n",
              "      <td>3.677494</td>\n",
              "      <td>14</td>\n",
              "    </tr>\n",
              "    <tr>\n",
              "      <th>4</th>\n",
              "      <td>3.614399</td>\n",
              "      <td>-0.306458</td>\n",
              "      <td>30.038746</td>\n",
              "      <td>5.480761</td>\n",
              "      <td>0.962918</td>\n",
              "      <td>-0.515235</td>\n",
              "      <td>6.429280</td>\n",
              "      <td>-1.027535</td>\n",
              "      <td>-0.459687</td>\n",
              "      <td>5.578530</td>\n",
              "      <td>2.361891</td>\n",
              "      <td>-0.695383</td>\n",
              "      <td>0.472503</td>\n",
              "      <td>2.511217</td>\n",
              "      <td>9.094586</td>\n",
              "      <td>9.959879</td>\n",
              "      <td>40.398550</td>\n",
              "      <td>6.355985</td>\n",
              "      <td>-0.207786</td>\n",
              "      <td>2.397879</td>\n",
              "      <td>10.987887</td>\n",
              "      <td>-0.459687</td>\n",
              "      <td>11.338940</td>\n",
              "      <td>-0.612916</td>\n",
              "      <td>-0.459687</td>\n",
              "      <td>15.476120</td>\n",
              "      <td>8.121132</td>\n",
              "      <td>-0.306458</td>\n",
              "      <td>-0.459687</td>\n",
              "      <td>6.129157</td>\n",
              "      <td>9.653421</td>\n",
              "      <td>-0.459687</td>\n",
              "      <td>-6.588843</td>\n",
              "      <td>1.991976</td>\n",
              "      <td>0.459687</td>\n",
              "      <td>-3.371036</td>\n",
              "      <td>-2.145205</td>\n",
              "      <td>0.306458</td>\n",
              "      <td>-0.459687</td>\n",
              "      <td>-0.919373</td>\n",
              "      <td>-3.217807</td>\n",
              "      <td>8.887277</td>\n",
              "      <td>2.451663</td>\n",
              "      <td>9.959879</td>\n",
              "      <td>9.959879</td>\n",
              "      <td>23.750481</td>\n",
              "      <td>14.556746</td>\n",
              "      <td>9.959879</td>\n",
              "      <td>7.048530</td>\n",
              "      <td>3.677494</td>\n",
              "      <td>15.169662</td>\n",
              "      <td>14</td>\n",
              "    </tr>\n",
              "    <tr>\n",
              "      <th>...</th>\n",
              "      <td>...</td>\n",
              "      <td>...</td>\n",
              "      <td>...</td>\n",
              "      <td>...</td>\n",
              "      <td>...</td>\n",
              "      <td>...</td>\n",
              "      <td>...</td>\n",
              "      <td>...</td>\n",
              "      <td>...</td>\n",
              "      <td>...</td>\n",
              "      <td>...</td>\n",
              "      <td>...</td>\n",
              "      <td>...</td>\n",
              "      <td>...</td>\n",
              "      <td>...</td>\n",
              "      <td>...</td>\n",
              "      <td>...</td>\n",
              "      <td>...</td>\n",
              "      <td>...</td>\n",
              "      <td>...</td>\n",
              "      <td>...</td>\n",
              "      <td>...</td>\n",
              "      <td>...</td>\n",
              "      <td>...</td>\n",
              "      <td>...</td>\n",
              "      <td>...</td>\n",
              "      <td>...</td>\n",
              "      <td>...</td>\n",
              "      <td>...</td>\n",
              "      <td>...</td>\n",
              "      <td>...</td>\n",
              "      <td>...</td>\n",
              "      <td>...</td>\n",
              "      <td>...</td>\n",
              "      <td>...</td>\n",
              "      <td>...</td>\n",
              "      <td>...</td>\n",
              "      <td>...</td>\n",
              "      <td>...</td>\n",
              "      <td>...</td>\n",
              "      <td>...</td>\n",
              "      <td>...</td>\n",
              "      <td>...</td>\n",
              "      <td>...</td>\n",
              "      <td>...</td>\n",
              "      <td>...</td>\n",
              "      <td>...</td>\n",
              "      <td>...</td>\n",
              "      <td>...</td>\n",
              "      <td>...</td>\n",
              "      <td>...</td>\n",
              "      <td>...</td>\n",
              "    </tr>\n",
              "    <tr>\n",
              "      <th>3246</th>\n",
              "      <td>-3.938885</td>\n",
              "      <td>-6.129157</td>\n",
              "      <td>28.464783</td>\n",
              "      <td>5.335240</td>\n",
              "      <td>0.515652</td>\n",
              "      <td>-1.515724</td>\n",
              "      <td>6.504244</td>\n",
              "      <td>-0.333498</td>\n",
              "      <td>0.000000</td>\n",
              "      <td>18.126554</td>\n",
              "      <td>4.257529</td>\n",
              "      <td>-0.022102</td>\n",
              "      <td>1.650570</td>\n",
              "      <td>4.143852</td>\n",
              "      <td>7.382028</td>\n",
              "      <td>5.975927</td>\n",
              "      <td>20.321848</td>\n",
              "      <td>4.507976</td>\n",
              "      <td>1.902445</td>\n",
              "      <td>3.845342</td>\n",
              "      <td>8.580255</td>\n",
              "      <td>-3.371036</td>\n",
              "      <td>-9.346964</td>\n",
              "      <td>2.758120</td>\n",
              "      <td>3.217807</td>\n",
              "      <td>-7.508216</td>\n",
              "      <td>4.596867</td>\n",
              "      <td>2.145205</td>\n",
              "      <td>-0.306458</td>\n",
              "      <td>-6.129157</td>\n",
              "      <td>-8.274362</td>\n",
              "      <td>8.734048</td>\n",
              "      <td>-3.064578</td>\n",
              "      <td>-4.443638</td>\n",
              "      <td>-2.758120</td>\n",
              "      <td>1.225831</td>\n",
              "      <td>-1.225831</td>\n",
              "      <td>-3.217807</td>\n",
              "      <td>6.435614</td>\n",
              "      <td>0.000000</td>\n",
              "      <td>0.306458</td>\n",
              "      <td>7.201759</td>\n",
              "      <td>4.903325</td>\n",
              "      <td>15.935806</td>\n",
              "      <td>9.040505</td>\n",
              "      <td>5.363012</td>\n",
              "      <td>20.226215</td>\n",
              "      <td>2.758120</td>\n",
              "      <td>1.991976</td>\n",
              "      <td>6.129157</td>\n",
              "      <td>5.516241</td>\n",
              "      <td>09</td>\n",
              "    </tr>\n",
              "    <tr>\n",
              "      <th>3247</th>\n",
              "      <td>-3.200782</td>\n",
              "      <td>-6.282386</td>\n",
              "      <td>34.455962</td>\n",
              "      <td>5.869920</td>\n",
              "      <td>0.524949</td>\n",
              "      <td>-1.649808</td>\n",
              "      <td>6.541158</td>\n",
              "      <td>-0.570352</td>\n",
              "      <td>-0.153229</td>\n",
              "      <td>6.965849</td>\n",
              "      <td>2.639290</td>\n",
              "      <td>0.114860</td>\n",
              "      <td>0.644103</td>\n",
              "      <td>2.627577</td>\n",
              "      <td>7.295399</td>\n",
              "      <td>5.975927</td>\n",
              "      <td>16.797606</td>\n",
              "      <td>4.098488</td>\n",
              "      <td>2.217426</td>\n",
              "      <td>4.797241</td>\n",
              "      <td>8.311874</td>\n",
              "      <td>6.282385</td>\n",
              "      <td>-4.903325</td>\n",
              "      <td>-8.427590</td>\n",
              "      <td>-0.459687</td>\n",
              "      <td>4.290410</td>\n",
              "      <td>-7.967903</td>\n",
              "      <td>2.604892</td>\n",
              "      <td>3.983952</td>\n",
              "      <td>-9.346964</td>\n",
              "      <td>-8.274362</td>\n",
              "      <td>-0.306458</td>\n",
              "      <td>-0.459687</td>\n",
              "      <td>0.153229</td>\n",
              "      <td>2.911349</td>\n",
              "      <td>-3.524265</td>\n",
              "      <td>0.766145</td>\n",
              "      <td>-1.379060</td>\n",
              "      <td>-3.217807</td>\n",
              "      <td>0.612916</td>\n",
              "      <td>0.000000</td>\n",
              "      <td>19.613300</td>\n",
              "      <td>5.669470</td>\n",
              "      <td>5.975927</td>\n",
              "      <td>3.677494</td>\n",
              "      <td>8.887277</td>\n",
              "      <td>5.975927</td>\n",
              "      <td>3.830723</td>\n",
              "      <td>8.427590</td>\n",
              "      <td>5.669470</td>\n",
              "      <td>5.209783</td>\n",
              "      <td>09</td>\n",
              "    </tr>\n",
              "    <tr>\n",
              "      <th>3248</th>\n",
              "      <td>-1.889823</td>\n",
              "      <td>-4.750096</td>\n",
              "      <td>28.583732</td>\n",
              "      <td>5.346376</td>\n",
              "      <td>0.439050</td>\n",
              "      <td>-1.693516</td>\n",
              "      <td>5.528759</td>\n",
              "      <td>-0.689530</td>\n",
              "      <td>-0.459686</td>\n",
              "      <td>14.958258</td>\n",
              "      <td>3.867591</td>\n",
              "      <td>0.514198</td>\n",
              "      <td>0.252048</td>\n",
              "      <td>3.821347</td>\n",
              "      <td>8.248823</td>\n",
              "      <td>7.738060</td>\n",
              "      <td>16.712285</td>\n",
              "      <td>4.088066</td>\n",
              "      <td>1.907963</td>\n",
              "      <td>5.819150</td>\n",
              "      <td>9.155704</td>\n",
              "      <td>-6.895301</td>\n",
              "      <td>3.983952</td>\n",
              "      <td>1.225831</td>\n",
              "      <td>4.903325</td>\n",
              "      <td>-6.895301</td>\n",
              "      <td>-6.282385</td>\n",
              "      <td>-6.588843</td>\n",
              "      <td>4.903325</td>\n",
              "      <td>-3.371036</td>\n",
              "      <td>3.983952</td>\n",
              "      <td>1.225831</td>\n",
              "      <td>-3.677494</td>\n",
              "      <td>3.371036</td>\n",
              "      <td>-1.685518</td>\n",
              "      <td>0.306458</td>\n",
              "      <td>1.072602</td>\n",
              "      <td>1.225831</td>\n",
              "      <td>-5.056554</td>\n",
              "      <td>-1.225831</td>\n",
              "      <td>-4.443638</td>\n",
              "      <td>6.895301</td>\n",
              "      <td>7.967903</td>\n",
              "      <td>2.145205</td>\n",
              "      <td>14.403518</td>\n",
              "      <td>7.048530</td>\n",
              "      <td>7.508216</td>\n",
              "      <td>8.121132</td>\n",
              "      <td>2.758120</td>\n",
              "      <td>8.121132</td>\n",
              "      <td>8.274362</td>\n",
              "      <td>09</td>\n",
              "    </tr>\n",
              "    <tr>\n",
              "      <th>3249</th>\n",
              "      <td>-2.136692</td>\n",
              "      <td>-5.746085</td>\n",
              "      <td>30.416405</td>\n",
              "      <td>5.515107</td>\n",
              "      <td>0.487121</td>\n",
              "      <td>-1.653827</td>\n",
              "      <td>5.769927</td>\n",
              "      <td>-0.468199</td>\n",
              "      <td>-0.383072</td>\n",
              "      <td>14.431282</td>\n",
              "      <td>3.798853</td>\n",
              "      <td>0.615253</td>\n",
              "      <td>0.743042</td>\n",
              "      <td>3.721392</td>\n",
              "      <td>8.385026</td>\n",
              "      <td>7.661446</td>\n",
              "      <td>14.233320</td>\n",
              "      <td>3.772707</td>\n",
              "      <td>1.679970</td>\n",
              "      <td>6.413624</td>\n",
              "      <td>9.151571</td>\n",
              "      <td>4.290410</td>\n",
              "      <td>4.443638</td>\n",
              "      <td>1.685518</td>\n",
              "      <td>-1.532289</td>\n",
              "      <td>-7.508216</td>\n",
              "      <td>4.750096</td>\n",
              "      <td>-6.435614</td>\n",
              "      <td>-6.895301</td>\n",
              "      <td>2.604892</td>\n",
              "      <td>-5.669470</td>\n",
              "      <td>-1.838747</td>\n",
              "      <td>-2.604892</td>\n",
              "      <td>-1.072602</td>\n",
              "      <td>8.274362</td>\n",
              "      <td>-5.975927</td>\n",
              "      <td>-2.758120</td>\n",
              "      <td>0.919373</td>\n",
              "      <td>1.225831</td>\n",
              "      <td>6.435614</td>\n",
              "      <td>0.612916</td>\n",
              "      <td>20.379444</td>\n",
              "      <td>8.734048</td>\n",
              "      <td>0.919373</td>\n",
              "      <td>9.653421</td>\n",
              "      <td>7.354988</td>\n",
              "      <td>8.427590</td>\n",
              "      <td>7.661446</td>\n",
              "      <td>7.661446</td>\n",
              "      <td>5.975927</td>\n",
              "      <td>8.887277</td>\n",
              "      <td>09</td>\n",
              "    </tr>\n",
              "    <tr>\n",
              "      <th>3250</th>\n",
              "      <td>-1.294784</td>\n",
              "      <td>-3.371036</td>\n",
              "      <td>29.167158</td>\n",
              "      <td>5.400663</td>\n",
              "      <td>0.386347</td>\n",
              "      <td>-1.563891</td>\n",
              "      <td>5.420818</td>\n",
              "      <td>-1.041957</td>\n",
              "      <td>0.000000</td>\n",
              "      <td>13.399399</td>\n",
              "      <td>3.660519</td>\n",
              "      <td>-0.166326</td>\n",
              "      <td>1.433064</td>\n",
              "      <td>3.716867</td>\n",
              "      <td>8.519528</td>\n",
              "      <td>8.121132</td>\n",
              "      <td>18.551950</td>\n",
              "      <td>4.307197</td>\n",
              "      <td>1.611306</td>\n",
              "      <td>3.821221</td>\n",
              "      <td>9.497721</td>\n",
              "      <td>-5.822699</td>\n",
              "      <td>2.604892</td>\n",
              "      <td>0.459687</td>\n",
              "      <td>4.596867</td>\n",
              "      <td>-1.379060</td>\n",
              "      <td>-6.129157</td>\n",
              "      <td>0.766145</td>\n",
              "      <td>4.596867</td>\n",
              "      <td>-5.975927</td>\n",
              "      <td>-6.588843</td>\n",
              "      <td>1.072602</td>\n",
              "      <td>-5.822699</td>\n",
              "      <td>1.991976</td>\n",
              "      <td>-3.677494</td>\n",
              "      <td>1.225831</td>\n",
              "      <td>0.459687</td>\n",
              "      <td>7.661446</td>\n",
              "      <td>-3.830723</td>\n",
              "      <td>0.766145</td>\n",
              "      <td>-0.153229</td>\n",
              "      <td>8.121132</td>\n",
              "      <td>5.669470</td>\n",
              "      <td>2.298434</td>\n",
              "      <td>8.887277</td>\n",
              "      <td>8.121132</td>\n",
              "      <td>8.427590</td>\n",
              "      <td>8.887277</td>\n",
              "      <td>8.121132</td>\n",
              "      <td>7.661446</td>\n",
              "      <td>9.040505</td>\n",
              "      <td>09</td>\n",
              "    </tr>\n",
              "  </tbody>\n",
              "</table>\n",
              "<p>3251 rows × 52 columns</p>\n",
              "</div>"
            ],
            "text/plain": [
              "            F1        F2         F3  ...       F50        F51  F52\n",
              "0     4.423208  1.379060  31.458192  ...  1.379060  16.548723   14\n",
              "1     5.342581  1.072602  42.295474  ...  5.975927   2.145205   14\n",
              "2     5.254850  1.532289  34.601631  ...  8.274362  10.419566   14\n",
              "3     5.430049  1.532289  38.533798  ...  9.806650   3.677494   14\n",
              "4     3.614399 -0.306458  30.038746  ...  3.677494  15.169662   14\n",
              "...        ...       ...        ...  ...       ...        ...  ...\n",
              "3246 -3.938885 -6.129157  28.464783  ...  6.129157   5.516241   09\n",
              "3247 -3.200782 -6.282386  34.455962  ...  5.669470   5.209783   09\n",
              "3248 -1.889823 -4.750096  28.583732  ...  8.121132   8.274362   09\n",
              "3249 -2.136692 -5.746085  30.416405  ...  5.975927   8.887277   09\n",
              "3250 -1.294784 -3.371036  29.167158  ...  7.661446   9.040505   09\n",
              "\n",
              "[3251 rows x 52 columns]"
            ]
          },
          "metadata": {
            "tags": []
          },
          "execution_count": 9
        }
      ]
    },
    {
      "cell_type": "markdown",
      "metadata": {
        "id": "VJkQXHlRT-Mi"
      },
      "source": [
        "### Model Building"
      ]
    },
    {
      "cell_type": "markdown",
      "metadata": {
        "id": "T8Th_7P459zR"
      },
      "source": [
        "#### Splitting the data into train and test"
      ]
    },
    {
      "cell_type": "code",
      "metadata": {
        "id": "EtN3ubSsZTdv"
      },
      "source": [
        "#Splitting data as test and train\n",
        "#Creating a list\n",
        "data_columns_list = list(df.columns)\n",
        "\n",
        "#Separating the dependent variable\n",
        "features = list(set(data_columns_list)-set(['F52']))\n",
        "\n",
        "#Setting x and y\n",
        "x= df[features].values\n",
        "y= df['F52'].values\n",
        "\n",
        "#Splitting train and test with train 70% and test 30%\n",
        "train_x, test_x, train_y, test_y = train_test_split(x, y, test_size=0.30, random_state=12)"
      ],
      "execution_count": null,
      "outputs": []
    },
    {
      "cell_type": "code",
      "metadata": {
        "id": "oGu6IOURlg2q"
      },
      "source": [
        "# Standardising the data\n",
        "from sklearn.preprocessing import StandardScaler\n",
        "scalar = StandardScaler()\n",
        "train_x = scalar.fit_transform(train_x)\n",
        "test_x = scalar.transform(test_x)"
      ],
      "execution_count": null,
      "outputs": []
    },
    {
      "cell_type": "markdown",
      "metadata": {
        "id": "M9hT47oPylnE"
      },
      "source": [
        "#### Random forest"
      ]
    },
    {
      "cell_type": "code",
      "metadata": {
        "id": "4lh_IhSxXcg6",
        "colab": {
          "base_uri": "https://localhost:8080/"
        },
        "outputId": "b2c37fd4-5de3-481d-9a0a-2cc89b3e660e"
      },
      "source": [
        "# Building Random Forest Model\n",
        "rf = RandomForestClassifier(n_estimators=100, random_state=0)\n",
        "\n",
        "# Fitting the model\n",
        "rf.fit(train_x, train_y)\n",
        "\n",
        "# Predicting the model on test data\n",
        "pred_rf = rf.predict(test_x)\n",
        "\n",
        "# Accuracy score\n",
        "print(accuracy_score(test_y, pred_rf))"
      ],
      "execution_count": null,
      "outputs": [
        {
          "output_type": "stream",
          "text": [
            "0.8340163934426229\n"
          ],
          "name": "stdout"
        }
      ]
    },
    {
      "cell_type": "markdown",
      "metadata": {
        "id": "ApMcu5hWZY5x"
      },
      "source": [
        "### Support Vector Machine"
      ]
    },
    {
      "cell_type": "code",
      "metadata": {
        "colab": {
          "base_uri": "https://localhost:8080/"
        },
        "id": "whQeQWbiM4bC",
        "outputId": "bf1039f2-7f06-45c6-9f10-e3cfc9e6c460"
      },
      "source": [
        "# Building the model\n",
        "Model_Svm = svm.SVC(kernel='rbf', C=1, gamma='scale',random_state=12)\n",
        "\n",
        "# Fitting the model\n",
        "Model_Svm.fit(train_x,train_y)\n",
        "\n",
        "# Predicting the model on test data and calculating the accuracy\n",
        "Model_Svm.score(test_x,test_y)"
      ],
      "execution_count": null,
      "outputs": [
        {
          "output_type": "execute_result",
          "data": {
            "text/plain": [
              "0.6670081967213115"
            ]
          },
          "metadata": {
            "tags": []
          },
          "execution_count": 13
        }
      ]
    },
    {
      "cell_type": "markdown",
      "metadata": {
        "id": "c03AcLvDXmKn"
      },
      "source": [
        "### k-Nearest Neighbors"
      ]
    },
    {
      "cell_type": "code",
      "metadata": {
        "id": "BIlL7fbJYinU",
        "colab": {
          "base_uri": "https://localhost:8080/"
        },
        "outputId": "a43c3e27-dd84-455c-c239-4cc66452fbf1"
      },
      "source": [
        "# Storing the K nearest classifier\n",
        "knn_classifier = KNeighborsClassifier(n_neighbors = 3)\n",
        "\n",
        "# Fitting the model\n",
        "knn_classifier.fit(train_x,train_y)\n",
        "\n",
        "# Predicting the model on test data\n",
        "pred_knn = knn_classifier.predict(test_x)\n",
        "\n",
        "# Accuracy\n",
        "print(accuracy_score(test_y, pred_knn))"
      ],
      "execution_count": null,
      "outputs": [
        {
          "output_type": "stream",
          "text": [
            "0.46209016393442626\n"
          ],
          "name": "stdout"
        }
      ]
    },
    {
      "cell_type": "markdown",
      "metadata": {
        "id": "pNeOffNZ-0H7"
      },
      "source": [
        "#### Hyper parameter tuning and Choosing the best model"
      ]
    },
    {
      "cell_type": "code",
      "metadata": {
        "id": "CRnyZfkO-pNN"
      },
      "source": [
        "model_params = {\n",
        "    'svm': {\n",
        "        'model': svm.SVC(gamma='scale'),\n",
        "        'params': {\n",
        "            'C':[10,20],\n",
        "            'kernel':['rbf','linear'],\n",
        "        }\n",
        "    },\n",
        "    'random_forest':{\n",
        "        'model': RandomForestClassifier(),\n",
        "        'params': {\n",
        "            'n_estimators':[200,300,400]\n",
        "        },\n",
        "        'knn':{\n",
        "            'model': KNeighborsClassifier(),\n",
        "            'params': {\n",
        "                'n_neighbors':[3,5,7]\n",
        "            }\n",
        "        }\n",
        "    }\n",
        "}"
      ],
      "execution_count": null,
      "outputs": []
    },
    {
      "cell_type": "code",
      "metadata": {
        "id": "Evx77tiP-pJi"
      },
      "source": [
        "scores_grid_1 = []\n",
        "\n",
        "for model_name, mp in model_params.items():\n",
        "  clf_1 = GridSearchCV(mp['model'], mp['params'],cv=5, return_train_score=False)\n",
        "  clf_1.fit(train_x,train_y)\n",
        "  scores_grid_1.append({\n",
        "      'model':model_name,\n",
        "      'best_score': clf_1.best_score_,\n",
        "      'best_params':clf_1.best_params_\n",
        "  })\n"
      ],
      "execution_count": null,
      "outputs": []
    },
    {
      "cell_type": "code",
      "metadata": {
        "id": "jjWel6PEFPgZ",
        "colab": {
          "base_uri": "https://localhost:8080/",
          "height": 110
        },
        "outputId": "e4975299-212b-4f5b-91be-507850177405"
      },
      "source": [
        "df_grid_1 = pd.DataFrame(scores_grid_1,columns=['model','best_score','best_params'])\n",
        "df_grid_1"
      ],
      "execution_count": null,
      "outputs": [
        {
          "output_type": "execute_result",
          "data": {
            "text/html": [
              "<div>\n",
              "<style scoped>\n",
              "    .dataframe tbody tr th:only-of-type {\n",
              "        vertical-align: middle;\n",
              "    }\n",
              "\n",
              "    .dataframe tbody tr th {\n",
              "        vertical-align: top;\n",
              "    }\n",
              "\n",
              "    .dataframe thead th {\n",
              "        text-align: right;\n",
              "    }\n",
              "</style>\n",
              "<table border=\"1\" class=\"dataframe\">\n",
              "  <thead>\n",
              "    <tr style=\"text-align: right;\">\n",
              "      <th></th>\n",
              "      <th>model</th>\n",
              "      <th>best_score</th>\n",
              "      <th>best_params</th>\n",
              "    </tr>\n",
              "  </thead>\n",
              "  <tbody>\n",
              "    <tr>\n",
              "      <th>0</th>\n",
              "      <td>svm</td>\n",
              "      <td>0.694945</td>\n",
              "      <td>{'C': 10, 'kernel': 'rbf'}</td>\n",
              "    </tr>\n",
              "    <tr>\n",
              "      <th>1</th>\n",
              "      <td>random_forest</td>\n",
              "      <td>0.826813</td>\n",
              "      <td>{'n_estimators': 200}</td>\n",
              "    </tr>\n",
              "  </tbody>\n",
              "</table>\n",
              "</div>"
            ],
            "text/plain": [
              "           model  best_score                 best_params\n",
              "0            svm    0.694945  {'C': 10, 'kernel': 'rbf'}\n",
              "1  random_forest    0.826813       {'n_estimators': 200}"
            ]
          },
          "metadata": {
            "tags": []
          },
          "execution_count": 17
        }
      ]
    },
    {
      "cell_type": "markdown",
      "metadata": {
        "id": "-55w_tshr6Be"
      },
      "source": [
        "### Without sampling"
      ]
    },
    {
      "cell_type": "code",
      "metadata": {
        "id": "2mP2mtpCljbj"
      },
      "source": [
        "df_stat = pd.DataFrame(columns=['F'+str(x) for x in range(1,23)])\n",
        "home_path = '/content/drive/MyDrive/Gesture Project /Dataset /gestures-dataset'\n",
        "dir1 = os.listdir(home_path)\n",
        "for root in dir1:\n",
        "  path1 = home_path + '/' + root\n",
        "  dir2 = os.listdir(path1)\n",
        "  for dir in dir2:\n",
        "    path2 = path1 + '/' + dir\n",
        "    dir3 = os.listdir(path2)\n",
        "    for file in dir3:\n",
        "      path3 = path2 + '/' + file\n",
        "      data = pd.read_csv(path3, names = ['T1','T2','T3','x','y','z'], sep=' ')\n",
        "      data = data.drop(data.columns[[0,1,2]],axis=1)\n",
        "      sample = []\n",
        "      stats = statistical_features(data)\n",
        "      sample = stats+[dir]\n",
        "      df_new_stat = pd.DataFrame([sample], columns=['F'+str(x) for x in range (1,23)])\n",
        "      df_stat = pd.concat([df_stat,df_new_stat])"
      ],
      "execution_count": null,
      "outputs": []
    },
    {
      "cell_type": "code",
      "metadata": {
        "id": "BKhSvlU53Cfn",
        "colab": {
          "base_uri": "https://localhost:8080/",
          "height": 437
        },
        "outputId": "32392696-d273-4995-eb3f-855bca61daf2"
      },
      "source": [
        "df_stat.reset_index(drop=True)"
      ],
      "execution_count": null,
      "outputs": [
        {
          "output_type": "execute_result",
          "data": {
            "text/html": [
              "<div>\n",
              "<style scoped>\n",
              "    .dataframe tbody tr th:only-of-type {\n",
              "        vertical-align: middle;\n",
              "    }\n",
              "\n",
              "    .dataframe tbody tr th {\n",
              "        vertical-align: top;\n",
              "    }\n",
              "\n",
              "    .dataframe thead th {\n",
              "        text-align: right;\n",
              "    }\n",
              "</style>\n",
              "<table border=\"1\" class=\"dataframe\">\n",
              "  <thead>\n",
              "    <tr style=\"text-align: right;\">\n",
              "      <th></th>\n",
              "      <th>F1</th>\n",
              "      <th>F2</th>\n",
              "      <th>F3</th>\n",
              "      <th>F4</th>\n",
              "      <th>F5</th>\n",
              "      <th>F6</th>\n",
              "      <th>F7</th>\n",
              "      <th>F8</th>\n",
              "      <th>F9</th>\n",
              "      <th>F10</th>\n",
              "      <th>F11</th>\n",
              "      <th>F12</th>\n",
              "      <th>F13</th>\n",
              "      <th>F14</th>\n",
              "      <th>F15</th>\n",
              "      <th>F16</th>\n",
              "      <th>F17</th>\n",
              "      <th>F18</th>\n",
              "      <th>F19</th>\n",
              "      <th>F20</th>\n",
              "      <th>F21</th>\n",
              "      <th>F22</th>\n",
              "    </tr>\n",
              "  </thead>\n",
              "  <tbody>\n",
              "    <tr>\n",
              "      <th>0</th>\n",
              "      <td>4.423208</td>\n",
              "      <td>1.379060</td>\n",
              "      <td>31.458192</td>\n",
              "      <td>5.608760</td>\n",
              "      <td>0.864222</td>\n",
              "      <td>-0.854975</td>\n",
              "      <td>6.994694</td>\n",
              "      <td>-1.716164</td>\n",
              "      <td>-0.919373</td>\n",
              "      <td>6.688860</td>\n",
              "      <td>2.586283</td>\n",
              "      <td>-0.450919</td>\n",
              "      <td>-0.508174</td>\n",
              "      <td>3.031197</td>\n",
              "      <td>8.693187</td>\n",
              "      <td>9.959879</td>\n",
              "      <td>29.353796</td>\n",
              "      <td>5.417914</td>\n",
              "      <td>-0.526808</td>\n",
              "      <td>0.121832</td>\n",
              "      <td>10.147333</td>\n",
              "      <td>14</td>\n",
              "    </tr>\n",
              "    <tr>\n",
              "      <th>1</th>\n",
              "      <td>5.342581</td>\n",
              "      <td>1.072602</td>\n",
              "      <td>42.295474</td>\n",
              "      <td>6.503497</td>\n",
              "      <td>0.929039</td>\n",
              "      <td>-0.576110</td>\n",
              "      <td>8.247360</td>\n",
              "      <td>-0.663992</td>\n",
              "      <td>-0.766145</td>\n",
              "      <td>3.158498</td>\n",
              "      <td>1.777216</td>\n",
              "      <td>-0.900687</td>\n",
              "      <td>0.578621</td>\n",
              "      <td>1.840874</td>\n",
              "      <td>8.478666</td>\n",
              "      <td>9.959879</td>\n",
              "      <td>28.744007</td>\n",
              "      <td>5.361344</td>\n",
              "      <td>0.134772</td>\n",
              "      <td>0.058926</td>\n",
              "      <td>9.935569</td>\n",
              "      <td>14</td>\n",
              "    </tr>\n",
              "    <tr>\n",
              "      <th>2</th>\n",
              "      <td>5.254850</td>\n",
              "      <td>1.532289</td>\n",
              "      <td>34.601631</td>\n",
              "      <td>5.882315</td>\n",
              "      <td>0.815900</td>\n",
              "      <td>-1.062613</td>\n",
              "      <td>7.757557</td>\n",
              "      <td>-3.019511</td>\n",
              "      <td>-2.145205</td>\n",
              "      <td>8.049706</td>\n",
              "      <td>2.837200</td>\n",
              "      <td>-0.525408</td>\n",
              "      <td>-1.138799</td>\n",
              "      <td>4.085785</td>\n",
              "      <td>8.283375</td>\n",
              "      <td>10.113108</td>\n",
              "      <td>27.222462</td>\n",
              "      <td>5.217515</td>\n",
              "      <td>-0.218214</td>\n",
              "      <td>0.969899</td>\n",
              "      <td>9.707494</td>\n",
              "      <td>14</td>\n",
              "    </tr>\n",
              "    <tr>\n",
              "      <th>3</th>\n",
              "      <td>5.430049</td>\n",
              "      <td>1.532289</td>\n",
              "      <td>38.533798</td>\n",
              "      <td>6.207560</td>\n",
              "      <td>0.836362</td>\n",
              "      <td>-0.932119</td>\n",
              "      <td>8.100054</td>\n",
              "      <td>-1.551443</td>\n",
              "      <td>-1.072602</td>\n",
              "      <td>4.197671</td>\n",
              "      <td>2.048822</td>\n",
              "      <td>0.011910</td>\n",
              "      <td>-0.716398</td>\n",
              "      <td>2.518391</td>\n",
              "      <td>8.331822</td>\n",
              "      <td>10.036493</td>\n",
              "      <td>24.261344</td>\n",
              "      <td>4.925581</td>\n",
              "      <td>-0.789664</td>\n",
              "      <td>0.530319</td>\n",
              "      <td>9.600222</td>\n",
              "      <td>14</td>\n",
              "    </tr>\n",
              "    <tr>\n",
              "      <th>4</th>\n",
              "      <td>3.614399</td>\n",
              "      <td>-0.306458</td>\n",
              "      <td>30.038746</td>\n",
              "      <td>5.480761</td>\n",
              "      <td>0.962918</td>\n",
              "      <td>-0.515235</td>\n",
              "      <td>6.429280</td>\n",
              "      <td>-1.027535</td>\n",
              "      <td>-0.459687</td>\n",
              "      <td>5.578530</td>\n",
              "      <td>2.361891</td>\n",
              "      <td>-0.695383</td>\n",
              "      <td>0.472503</td>\n",
              "      <td>2.511217</td>\n",
              "      <td>9.094586</td>\n",
              "      <td>9.959879</td>\n",
              "      <td>40.398550</td>\n",
              "      <td>6.355985</td>\n",
              "      <td>-0.207786</td>\n",
              "      <td>2.397879</td>\n",
              "      <td>10.987887</td>\n",
              "      <td>14</td>\n",
              "    </tr>\n",
              "    <tr>\n",
              "      <th>...</th>\n",
              "      <td>...</td>\n",
              "      <td>...</td>\n",
              "      <td>...</td>\n",
              "      <td>...</td>\n",
              "      <td>...</td>\n",
              "      <td>...</td>\n",
              "      <td>...</td>\n",
              "      <td>...</td>\n",
              "      <td>...</td>\n",
              "      <td>...</td>\n",
              "      <td>...</td>\n",
              "      <td>...</td>\n",
              "      <td>...</td>\n",
              "      <td>...</td>\n",
              "      <td>...</td>\n",
              "      <td>...</td>\n",
              "      <td>...</td>\n",
              "      <td>...</td>\n",
              "      <td>...</td>\n",
              "      <td>...</td>\n",
              "      <td>...</td>\n",
              "      <td>...</td>\n",
              "    </tr>\n",
              "    <tr>\n",
              "      <th>3246</th>\n",
              "      <td>-3.938885</td>\n",
              "      <td>-6.129157</td>\n",
              "      <td>28.464783</td>\n",
              "      <td>5.335240</td>\n",
              "      <td>0.515652</td>\n",
              "      <td>-1.515724</td>\n",
              "      <td>6.504244</td>\n",
              "      <td>-0.333498</td>\n",
              "      <td>0.000000</td>\n",
              "      <td>18.126554</td>\n",
              "      <td>4.257529</td>\n",
              "      <td>-0.022102</td>\n",
              "      <td>1.650570</td>\n",
              "      <td>4.143852</td>\n",
              "      <td>7.382028</td>\n",
              "      <td>5.975927</td>\n",
              "      <td>20.321848</td>\n",
              "      <td>4.507976</td>\n",
              "      <td>1.902445</td>\n",
              "      <td>3.845342</td>\n",
              "      <td>8.580255</td>\n",
              "      <td>09</td>\n",
              "    </tr>\n",
              "    <tr>\n",
              "      <th>3247</th>\n",
              "      <td>-3.200782</td>\n",
              "      <td>-6.282386</td>\n",
              "      <td>34.455962</td>\n",
              "      <td>5.869920</td>\n",
              "      <td>0.524949</td>\n",
              "      <td>-1.649808</td>\n",
              "      <td>6.541158</td>\n",
              "      <td>-0.570352</td>\n",
              "      <td>-0.153229</td>\n",
              "      <td>6.965849</td>\n",
              "      <td>2.639290</td>\n",
              "      <td>0.114860</td>\n",
              "      <td>0.644103</td>\n",
              "      <td>2.627577</td>\n",
              "      <td>7.295399</td>\n",
              "      <td>5.975927</td>\n",
              "      <td>16.797606</td>\n",
              "      <td>4.098488</td>\n",
              "      <td>2.217426</td>\n",
              "      <td>4.797241</td>\n",
              "      <td>8.311874</td>\n",
              "      <td>09</td>\n",
              "    </tr>\n",
              "    <tr>\n",
              "      <th>3248</th>\n",
              "      <td>-1.889823</td>\n",
              "      <td>-4.750096</td>\n",
              "      <td>28.583732</td>\n",
              "      <td>5.346376</td>\n",
              "      <td>0.439050</td>\n",
              "      <td>-1.693516</td>\n",
              "      <td>5.528759</td>\n",
              "      <td>-0.689530</td>\n",
              "      <td>-0.459686</td>\n",
              "      <td>14.958258</td>\n",
              "      <td>3.867591</td>\n",
              "      <td>0.514198</td>\n",
              "      <td>0.252048</td>\n",
              "      <td>3.821347</td>\n",
              "      <td>8.248823</td>\n",
              "      <td>7.738060</td>\n",
              "      <td>16.712285</td>\n",
              "      <td>4.088066</td>\n",
              "      <td>1.907963</td>\n",
              "      <td>5.819150</td>\n",
              "      <td>9.155704</td>\n",
              "      <td>09</td>\n",
              "    </tr>\n",
              "    <tr>\n",
              "      <th>3249</th>\n",
              "      <td>-2.136692</td>\n",
              "      <td>-5.746085</td>\n",
              "      <td>30.416405</td>\n",
              "      <td>5.515107</td>\n",
              "      <td>0.487121</td>\n",
              "      <td>-1.653827</td>\n",
              "      <td>5.769927</td>\n",
              "      <td>-0.468199</td>\n",
              "      <td>-0.383072</td>\n",
              "      <td>14.431282</td>\n",
              "      <td>3.798853</td>\n",
              "      <td>0.615253</td>\n",
              "      <td>0.743042</td>\n",
              "      <td>3.721392</td>\n",
              "      <td>8.385026</td>\n",
              "      <td>7.661446</td>\n",
              "      <td>14.233320</td>\n",
              "      <td>3.772707</td>\n",
              "      <td>1.679970</td>\n",
              "      <td>6.413624</td>\n",
              "      <td>9.151571</td>\n",
              "      <td>09</td>\n",
              "    </tr>\n",
              "    <tr>\n",
              "      <th>3250</th>\n",
              "      <td>-1.294784</td>\n",
              "      <td>-3.371036</td>\n",
              "      <td>29.167158</td>\n",
              "      <td>5.400663</td>\n",
              "      <td>0.386347</td>\n",
              "      <td>-1.563891</td>\n",
              "      <td>5.420818</td>\n",
              "      <td>-1.041957</td>\n",
              "      <td>0.000000</td>\n",
              "      <td>13.399399</td>\n",
              "      <td>3.660519</td>\n",
              "      <td>-0.166326</td>\n",
              "      <td>1.433064</td>\n",
              "      <td>3.716867</td>\n",
              "      <td>8.519528</td>\n",
              "      <td>8.121132</td>\n",
              "      <td>18.551950</td>\n",
              "      <td>4.307197</td>\n",
              "      <td>1.611306</td>\n",
              "      <td>3.821221</td>\n",
              "      <td>9.497721</td>\n",
              "      <td>09</td>\n",
              "    </tr>\n",
              "  </tbody>\n",
              "</table>\n",
              "<p>3251 rows × 22 columns</p>\n",
              "</div>"
            ],
            "text/plain": [
              "            F1        F2         F3  ...       F20        F21  F22\n",
              "0     4.423208  1.379060  31.458192  ...  0.121832  10.147333   14\n",
              "1     5.342581  1.072602  42.295474  ...  0.058926   9.935569   14\n",
              "2     5.254850  1.532289  34.601631  ...  0.969899   9.707494   14\n",
              "3     5.430049  1.532289  38.533798  ...  0.530319   9.600222   14\n",
              "4     3.614399 -0.306458  30.038746  ...  2.397879  10.987887   14\n",
              "...        ...       ...        ...  ...       ...        ...  ...\n",
              "3246 -3.938885 -6.129157  28.464783  ...  3.845342   8.580255   09\n",
              "3247 -3.200782 -6.282386  34.455962  ...  4.797241   8.311874   09\n",
              "3248 -1.889823 -4.750096  28.583732  ...  5.819150   9.155704   09\n",
              "3249 -2.136692 -5.746085  30.416405  ...  6.413624   9.151571   09\n",
              "3250 -1.294784 -3.371036  29.167158  ...  3.821221   9.497721   09\n",
              "\n",
              "[3251 rows x 22 columns]"
            ]
          },
          "metadata": {
            "tags": []
          },
          "execution_count": 19
        }
      ]
    },
    {
      "cell_type": "code",
      "metadata": {
        "id": "Gn0LQM1ho-uQ"
      },
      "source": [
        "#Splitting data as test and train\n",
        "#Creating a list\n",
        "data_columns = list(df_stat.columns)"
      ],
      "execution_count": null,
      "outputs": []
    },
    {
      "cell_type": "code",
      "metadata": {
        "id": "s7dr6rr7tCAU"
      },
      "source": [
        "#Separating the dependent variable\n",
        "features_1 = list(set(data_columns)-set(['F22']))"
      ],
      "execution_count": null,
      "outputs": []
    },
    {
      "cell_type": "code",
      "metadata": {
        "id": "dXcWa88xtErV"
      },
      "source": [
        "#Setting x and y\n",
        "X= df_stat[features_1].values\n",
        "Y= df_stat['F22'].values"
      ],
      "execution_count": null,
      "outputs": []
    },
    {
      "cell_type": "code",
      "metadata": {
        "id": "GP1aLal0tH3v"
      },
      "source": [
        "#Splitting train and test with train 70% and test 30%\n",
        "Train_X, Test_X, Train_Y, Test_Y = train_test_split(X, Y, test_size=0.30, random_state=12)"
      ],
      "execution_count": null,
      "outputs": []
    },
    {
      "cell_type": "code",
      "metadata": {
        "id": "8jwnxEU6ljv1"
      },
      "source": [
        "# Standardising the data\n",
        "from sklearn.preprocessing import StandardScaler\n",
        "scalar = StandardScaler()\n",
        "Train_X = scalar.fit_transform(Train_X)\n",
        "Test_X = scalar.transform(Test_X)"
      ],
      "execution_count": null,
      "outputs": []
    },
    {
      "cell_type": "markdown",
      "metadata": {
        "id": "70VlpjNxtaHT"
      },
      "source": [
        "### Model Building"
      ]
    },
    {
      "cell_type": "markdown",
      "metadata": {
        "id": "PAkYitZytwXZ"
      },
      "source": [
        "#### Random forest"
      ]
    },
    {
      "cell_type": "code",
      "metadata": {
        "id": "LHgsSTbCriAX",
        "colab": {
          "base_uri": "https://localhost:8080/"
        },
        "outputId": "468b0f9d-e60b-4d4f-c332-6972498ef735"
      },
      "source": [
        "# Building Random Forest Model\n",
        "rf_1 = RandomForestClassifier(n_estimators=100, random_state=15)\n",
        "\n",
        "# Fitting the model\n",
        "rf_1.fit(Train_X, Train_Y)\n",
        "\n",
        "# Predicting the model on test data\n",
        "rf_pred_1 = rf_1.predict(Test_X)\n",
        "\n",
        "# Accuracy score\n",
        "print(accuracy_score(Test_Y, rf_pred_1))"
      ],
      "execution_count": null,
      "outputs": [
        {
          "output_type": "stream",
          "text": [
            "0.8493852459016393\n"
          ],
          "name": "stdout"
        }
      ]
    },
    {
      "cell_type": "markdown",
      "metadata": {
        "id": "vZketHn_t07v"
      },
      "source": [
        "#### SVM"
      ]
    },
    {
      "cell_type": "code",
      "metadata": {
        "colab": {
          "base_uri": "https://localhost:8080/"
        },
        "id": "rYtax8FKuSZc",
        "outputId": "7b174f54-6315-4fd0-eda7-390ef77e2a36"
      },
      "source": [
        "# Building the model\n",
        "Model_Svm = svm.SVC(kernel='rbf', C=1, gamma='scale',random_state=12)\n",
        "\n",
        "# Fitting the model\n",
        "Model_Svm.fit(Train_X,Train_Y)\n",
        "\n",
        "# Predicting the model on test data and calculating the accuracy\n",
        "Model_Svm.score(Test_X,Test_Y)"
      ],
      "execution_count": null,
      "outputs": [
        {
          "output_type": "execute_result",
          "data": {
            "text/plain": [
              "0.826844262295082"
            ]
          },
          "metadata": {
            "tags": []
          },
          "execution_count": 26
        }
      ]
    },
    {
      "cell_type": "markdown",
      "metadata": {
        "id": "JxM4g9jk4UGH"
      },
      "source": [
        "#### KNN"
      ]
    },
    {
      "cell_type": "code",
      "metadata": {
        "id": "MqywGxYj4Tai",
        "colab": {
          "base_uri": "https://localhost:8080/"
        },
        "outputId": "a0f47672-19f3-4ad2-cd36-cfe06a283faf"
      },
      "source": [
        "# Storing the K nearest classifier\n",
        "knn_1 = KNeighborsClassifier(n_neighbors = 3)\n",
        "\n",
        "# Fitting the model\n",
        "knn_1.fit(Train_X,Train_Y)\n",
        "\n",
        "# Predicting the model on test data\n",
        "knn_pred_1 = knn_1.predict(Test_X)\n",
        "\n",
        "# Accuracy\n",
        "print(accuracy_score(Test_Y, knn_pred_1))"
      ],
      "execution_count": null,
      "outputs": [
        {
          "output_type": "stream",
          "text": [
            "0.8473360655737705\n"
          ],
          "name": "stdout"
        }
      ]
    },
    {
      "cell_type": "markdown",
      "metadata": {
        "id": "LHYo-rUIOgfi"
      },
      "source": [
        "#### Hyper parameter tuning and choosing the best model"
      ]
    },
    {
      "cell_type": "code",
      "metadata": {
        "id": "hoAGF8vPwEQn"
      },
      "source": [
        "Scores_Grid_2 = []\n",
        "\n",
        "for model_name, mp in model_params.items():\n",
        "  Clf_1 = GridSearchCV(mp['model'], mp['params'],cv=5, return_train_score=False)\n",
        "  Clf_1.fit(Train_X,Train_Y)\n",
        "  Scores_Grid_2.append({\n",
        "      'model':model_name,\n",
        "      'best_score': Clf_1.best_score_,\n",
        "      'best_params':Clf_1.best_params_\n",
        "  })"
      ],
      "execution_count": null,
      "outputs": []
    },
    {
      "cell_type": "code",
      "metadata": {
        "colab": {
          "base_uri": "https://localhost:8080/",
          "height": 110
        },
        "id": "HvkVwCjWKk4z",
        "outputId": "08824de1-30d2-4d24-f257-8d2ff3532c04"
      },
      "source": [
        "DF_Grid_2 = pd.DataFrame(Scores_Grid_2,columns=['model','best_score','best_params'])\n",
        "DF_Grid_2"
      ],
      "execution_count": null,
      "outputs": [
        {
          "output_type": "execute_result",
          "data": {
            "text/html": [
              "<div>\n",
              "<style scoped>\n",
              "    .dataframe tbody tr th:only-of-type {\n",
              "        vertical-align: middle;\n",
              "    }\n",
              "\n",
              "    .dataframe tbody tr th {\n",
              "        vertical-align: top;\n",
              "    }\n",
              "\n",
              "    .dataframe thead th {\n",
              "        text-align: right;\n",
              "    }\n",
              "</style>\n",
              "<table border=\"1\" class=\"dataframe\">\n",
              "  <thead>\n",
              "    <tr style=\"text-align: right;\">\n",
              "      <th></th>\n",
              "      <th>model</th>\n",
              "      <th>best_score</th>\n",
              "      <th>best_params</th>\n",
              "    </tr>\n",
              "  </thead>\n",
              "  <tbody>\n",
              "    <tr>\n",
              "      <th>0</th>\n",
              "      <td>svm</td>\n",
              "      <td>0.865934</td>\n",
              "      <td>{'C': 20, 'kernel': 'rbf'}</td>\n",
              "    </tr>\n",
              "    <tr>\n",
              "      <th>1</th>\n",
              "      <td>random_forest</td>\n",
              "      <td>0.854945</td>\n",
              "      <td>{'n_estimators': 400}</td>\n",
              "    </tr>\n",
              "  </tbody>\n",
              "</table>\n",
              "</div>"
            ],
            "text/plain": [
              "           model  best_score                 best_params\n",
              "0            svm    0.865934  {'C': 20, 'kernel': 'rbf'}\n",
              "1  random_forest    0.854945       {'n_estimators': 400}"
            ]
          },
          "metadata": {
            "tags": []
          },
          "execution_count": 30
        }
      ]
    },
    {
      "cell_type": "code",
      "metadata": {
        "id": "5OguxxqnYSVp"
      },
      "source": [],
      "execution_count": null,
      "outputs": []
    }
  ]
}