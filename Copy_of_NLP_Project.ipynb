{
  "nbformat": 4,
  "nbformat_minor": 0,
  "metadata": {
    "colab": {
      "provenance": [],
      "authorship_tag": "ABX9TyP60oFfLdB9yqlaV/BOh4pR",
      "include_colab_link": true
    },
    "kernelspec": {
      "name": "python3",
      "display_name": "Python 3"
    },
    "language_info": {
      "name": "python"
    }
  },
  "cells": [
    {
      "cell_type": "markdown",
      "metadata": {
        "id": "view-in-github",
        "colab_type": "text"
      },
      "source": [
        "<a href=\"https://colab.research.google.com/github/swedaa/DS-NLP/blob/main/Copy_of_NLP_Project.ipynb\" target=\"_parent\"><img src=\"https://colab.research.google.com/assets/colab-badge.svg\" alt=\"Open In Colab\"/></a>"
      ]
    },
    {
      "cell_type": "markdown",
      "metadata": {
        "id": "ALECVOX9AAdF"
      },
      "source": [
        "### Importing the required Libraries and Packages"
      ]
    },
    {
      "cell_type": "code",
      "metadata": {
        "id": "iAd_vXwpKzNt"
      },
      "source": [
        "#Data Preprocessing and Cleaning\n",
        "import pandas as pd\n",
        "import numpy as np\n",
        "import email\n",
        "import re"
      ],
      "execution_count": null,
      "outputs": []
    },
    {
      "cell_type": "code",
      "metadata": {
        "id": "rYDk1RGS2N5W"
      },
      "source": [
        "#texthero\n",
        "!pip install texthero\n",
        "import texthero as hero"
      ],
      "execution_count": null,
      "outputs": []
    },
    {
      "cell_type": "code",
      "source": [
        "#Model Building\n",
        "import gensim\n",
        "\n",
        "import gensim.corpora as corpora\n",
        "from gensim.utils import simple_preprocess #for tokenization\n",
        "from gensim.models import CoherenceModel\n",
        "\n",
        "from gensim.models.phrases import Phrases, Phraser"
      ],
      "metadata": {
        "id": "ljxpnECLQaod"
      },
      "execution_count": null,
      "outputs": []
    },
    {
      "cell_type": "code",
      "metadata": {
        "id": "UTn8DFYV2NsX"
      },
      "source": [
        "# spacy for lemmatization\n",
        "import spacy\n",
        "\n",
        "# prep NLTK Stop words\n",
        "import nltk\n",
        "nltk.download('stopwords')\n"
      ],
      "execution_count": null,
      "outputs": []
    },
    {
      "cell_type": "code",
      "source": [
        "from nltk.corpus import stopword\n",
        "stop_words = stopwords.words('english')\n",
        "stop_words.extend(['from', 'subject', 're', 'edu', 'use'])"
      ],
      "metadata": {
        "id": "0MpRGN5zQajV"
      },
      "execution_count": null,
      "outputs": []
    },
    {
      "cell_type": "code",
      "source": [
        "from pprint import pprint\n",
        "\n",
        "import warnings\n",
        "warnings.filterwarnings(\"ignore\",category=DeprecationWarning)"
      ],
      "metadata": {
        "id": "N8FE8-K-oWDL"
      },
      "execution_count": null,
      "outputs": []
    },
    {
      "cell_type": "markdown",
      "metadata": {
        "id": "9BShIplEAZ38"
      },
      "source": [
        "### Reading the data"
      ]
    },
    {
      "cell_type": "code",
      "metadata": {
        "id": "BeM0iBUpK6p5",
        "colab": {
          "base_uri": "https://localhost:8080/"
        },
        "outputId": "8a468019-0d84-4280-e075-63d2b3e7a142"
      },
      "source": [
        "from google.colab import drive\n",
        "drive.mount('/content/drive')"
      ],
      "execution_count": null,
      "outputs": [
        {
          "output_type": "stream",
          "text": [
            "Drive already mounted at /content/drive; to attempt to forcibly remount, call drive.mount(\"/content/drive\", force_remount=True).\n"
          ],
          "name": "stdout"
        }
      ]
    },
    {
      "cell_type": "code",
      "metadata": {
        "id": "dZlDnTe_K821"
      },
      "source": [
        "mail = pd.read_csv('/content/drive/MyDrive/emails.csv')"
      ],
      "execution_count": null,
      "outputs": []
    },
    {
      "cell_type": "code",
      "metadata": {
        "id": "KtNK2A7w-npk",
        "colab": {
          "base_uri": "https://localhost:8080/",
          "height": 357
        },
        "outputId": "2db08871-aa6f-4d9c-f6d4-dd0f3dc51a14"
      },
      "source": [
        "mail.head(10)"
      ],
      "execution_count": null,
      "outputs": [
        {
          "output_type": "execute_result",
          "data": {
            "text/html": [
              "<div>\n",
              "<style scoped>\n",
              "    .dataframe tbody tr th:only-of-type {\n",
              "        vertical-align: middle;\n",
              "    }\n",
              "\n",
              "    .dataframe tbody tr th {\n",
              "        vertical-align: top;\n",
              "    }\n",
              "\n",
              "    .dataframe thead th {\n",
              "        text-align: right;\n",
              "    }\n",
              "</style>\n",
              "<table border=\"1\" class=\"dataframe\">\n",
              "  <thead>\n",
              "    <tr style=\"text-align: right;\">\n",
              "      <th></th>\n",
              "      <th>file</th>\n",
              "      <th>message</th>\n",
              "    </tr>\n",
              "  </thead>\n",
              "  <tbody>\n",
              "    <tr>\n",
              "      <th>0</th>\n",
              "      <td>allen-p/_sent_mail/1.</td>\n",
              "      <td>Message-ID: &lt;18782981.1075855378110.JavaMail.e...</td>\n",
              "    </tr>\n",
              "    <tr>\n",
              "      <th>1</th>\n",
              "      <td>allen-p/_sent_mail/10.</td>\n",
              "      <td>Message-ID: &lt;15464986.1075855378456.JavaMail.e...</td>\n",
              "    </tr>\n",
              "    <tr>\n",
              "      <th>2</th>\n",
              "      <td>allen-p/_sent_mail/100.</td>\n",
              "      <td>Message-ID: &lt;24216240.1075855687451.JavaMail.e...</td>\n",
              "    </tr>\n",
              "    <tr>\n",
              "      <th>3</th>\n",
              "      <td>allen-p/_sent_mail/1000.</td>\n",
              "      <td>Message-ID: &lt;13505866.1075863688222.JavaMail.e...</td>\n",
              "    </tr>\n",
              "    <tr>\n",
              "      <th>4</th>\n",
              "      <td>allen-p/_sent_mail/1001.</td>\n",
              "      <td>Message-ID: &lt;30922949.1075863688243.JavaMail.e...</td>\n",
              "    </tr>\n",
              "    <tr>\n",
              "      <th>5</th>\n",
              "      <td>allen-p/_sent_mail/1002.</td>\n",
              "      <td>Message-ID: &lt;30965995.1075863688265.JavaMail.e...</td>\n",
              "    </tr>\n",
              "    <tr>\n",
              "      <th>6</th>\n",
              "      <td>allen-p/_sent_mail/1003.</td>\n",
              "      <td>Message-ID: &lt;16254169.1075863688286.JavaMail.e...</td>\n",
              "    </tr>\n",
              "    <tr>\n",
              "      <th>7</th>\n",
              "      <td>allen-p/_sent_mail/1004.</td>\n",
              "      <td>Message-ID: &lt;17189699.1075863688308.JavaMail.e...</td>\n",
              "    </tr>\n",
              "    <tr>\n",
              "      <th>8</th>\n",
              "      <td>allen-p/_sent_mail/101.</td>\n",
              "      <td>Message-ID: &lt;20641191.1075855687472.JavaMail.e...</td>\n",
              "    </tr>\n",
              "    <tr>\n",
              "      <th>9</th>\n",
              "      <td>allen-p/_sent_mail/102.</td>\n",
              "      <td>Message-ID: &lt;30795301.1075855687494.JavaMail.e...</td>\n",
              "    </tr>\n",
              "  </tbody>\n",
              "</table>\n",
              "</div>"
            ],
            "text/plain": [
              "                       file                                            message\n",
              "0     allen-p/_sent_mail/1.  Message-ID: <18782981.1075855378110.JavaMail.e...\n",
              "1    allen-p/_sent_mail/10.  Message-ID: <15464986.1075855378456.JavaMail.e...\n",
              "2   allen-p/_sent_mail/100.  Message-ID: <24216240.1075855687451.JavaMail.e...\n",
              "3  allen-p/_sent_mail/1000.  Message-ID: <13505866.1075863688222.JavaMail.e...\n",
              "4  allen-p/_sent_mail/1001.  Message-ID: <30922949.1075863688243.JavaMail.e...\n",
              "5  allen-p/_sent_mail/1002.  Message-ID: <30965995.1075863688265.JavaMail.e...\n",
              "6  allen-p/_sent_mail/1003.  Message-ID: <16254169.1075863688286.JavaMail.e...\n",
              "7  allen-p/_sent_mail/1004.  Message-ID: <17189699.1075863688308.JavaMail.e...\n",
              "8   allen-p/_sent_mail/101.  Message-ID: <20641191.1075855687472.JavaMail.e...\n",
              "9   allen-p/_sent_mail/102.  Message-ID: <30795301.1075855687494.JavaMail.e..."
            ]
          },
          "metadata": {
            "tags": []
          },
          "execution_count": 4
        }
      ]
    },
    {
      "cell_type": "code",
      "metadata": {
        "id": "pIV5O0R52Prt"
      },
      "source": [],
      "execution_count": null,
      "outputs": []
    },
    {
      "cell_type": "code",
      "metadata": {
        "id": "wqMtSi922Pfb"
      },
      "source": [],
      "execution_count": null,
      "outputs": []
    },
    {
      "cell_type": "markdown",
      "metadata": {
        "id": "t2pXU1VoAzrV"
      },
      "source": [
        "### Data Preparation"
      ]
    },
    {
      "cell_type": "markdown",
      "metadata": {
        "id": "T61izqdlML7t"
      },
      "source": [
        "### Extracting the body of the mail"
      ]
    },
    {
      "cell_type": "code",
      "metadata": {
        "id": "udDEgglvLH72"
      },
      "source": [
        "# Extracting the body of the mail\n",
        "def Body(messages):\n",
        "    column = []\n",
        "    for message in messages:\n",
        "        e = email.message_from_string(message)\n",
        "        column.append(e.get_payload())\n",
        "    return column"
      ],
      "execution_count": null,
      "outputs": []
    },
    {
      "cell_type": "code",
      "metadata": {
        "id": "kJaMU5MFLR4d"
      },
      "source": [
        "mail['Body'] = Body(mail['message'])"
      ],
      "execution_count": null,
      "outputs": []
    },
    {
      "cell_type": "markdown",
      "metadata": {
        "id": "WGFnnFiIME4n"
      },
      "source": [
        "### Extracting the headers"
      ]
    },
    {
      "cell_type": "code",
      "metadata": {
        "id": "-kM7tsh6LD2F"
      },
      "source": [
        "# Adding the fields into the dataframe\n",
        "def get_field(field, messages):\n",
        "    column = []\n",
        "    for message in messages:\n",
        "        e = email.message_from_string(message)\n",
        "        column.append(e.get(field))\n",
        "    return column"
      ],
      "execution_count": null,
      "outputs": []
    },
    {
      "cell_type": "code",
      "metadata": {
        "id": "OhE_Nyc8LEo_"
      },
      "source": [
        "mail['Folder'] = get_field(\"X-Folder\", mail['message'])"
      ],
      "execution_count": null,
      "outputs": []
    },
    {
      "cell_type": "code",
      "metadata": {
        "colab": {
          "base_uri": "https://localhost:8080/"
        },
        "id": "D2ruPvYtOnZM",
        "outputId": "d5f292e8-b6a1-4019-a626-eda34c43e26c"
      },
      "source": [
        "mail['Folder'].head(10)"
      ],
      "execution_count": null,
      "outputs": [
        {
          "output_type": "execute_result",
          "data": {
            "text/plain": [
              "0    \\Phillip_Allen_Jan2002_1\\Allen, Phillip K.\\'Se...\n",
              "1    \\Phillip_Allen_Jan2002_1\\Allen, Phillip K.\\'Se...\n",
              "2      \\Phillip_Allen_Dec2000\\Notes Folders\\'sent mail\n",
              "3      \\Phillip_Allen_Dec2000\\Notes Folders\\'sent mail\n",
              "4      \\Phillip_Allen_Dec2000\\Notes Folders\\'sent mail\n",
              "5      \\Phillip_Allen_Dec2000\\Notes Folders\\'sent mail\n",
              "6      \\Phillip_Allen_Dec2000\\Notes Folders\\'sent mail\n",
              "7      \\Phillip_Allen_Dec2000\\Notes Folders\\'sent mail\n",
              "8      \\Phillip_Allen_Dec2000\\Notes Folders\\'sent mail\n",
              "9      \\Phillip_Allen_Dec2000\\Notes Folders\\'sent mail\n",
              "Name: Folder, dtype: object"
            ]
          },
          "metadata": {
            "tags": []
          },
          "execution_count": 9
        }
      ]
    },
    {
      "cell_type": "markdown",
      "metadata": {
        "id": "OtZWdbRdM5y0"
      },
      "source": [
        "### Extracting the folder name"
      ]
    },
    {
      "cell_type": "code",
      "metadata": {
        "id": "ORah97TLLR0T"
      },
      "source": [
        "# Extracting the folder name\n",
        "def preprocess_folder(folders):\n",
        "    column = []\n",
        "    for folder in folders:\n",
        "        if (folder is None or folder == \"\"):\n",
        "            column.append(np.nan)\n",
        "        else:\n",
        "            column.append(folder.split(\"\\\\\")[-1].lower())\n",
        "    return column"
      ],
      "execution_count": null,
      "outputs": []
    },
    {
      "cell_type": "code",
      "metadata": {
        "id": "gS7tZx9KLRxI"
      },
      "source": [
        "mail['Folder'] = preprocess_folder(mail['Folder'])"
      ],
      "execution_count": null,
      "outputs": []
    },
    {
      "cell_type": "markdown",
      "metadata": {
        "id": "9bfpOv-iNQZr"
      },
      "source": [
        "### Dropping the columns - file and message"
      ]
    },
    {
      "cell_type": "code",
      "metadata": {
        "id": "NGcQ5BdyLRur"
      },
      "source": [
        "del_col = ['file','message']"
      ],
      "execution_count": null,
      "outputs": []
    },
    {
      "cell_type": "code",
      "metadata": {
        "id": "K6a_cQVjLRsk"
      },
      "source": [
        "mail = mail.drop(columns= del_col, axis = 1)"
      ],
      "execution_count": null,
      "outputs": []
    },
    {
      "cell_type": "code",
      "metadata": {
        "id": "lKp6T5S_8Nf0",
        "colab": {
          "base_uri": "https://localhost:8080/"
        },
        "outputId": "7f826ee1-3ea3-47a5-d8db-9315570a50d7"
      },
      "source": [
        "mail.shape"
      ],
      "execution_count": null,
      "outputs": [
        {
          "output_type": "execute_result",
          "data": {
            "text/plain": [
              "(517401, 2)"
            ]
          },
          "metadata": {
            "tags": []
          },
          "execution_count": 14
        }
      ]
    },
    {
      "cell_type": "code",
      "metadata": {
        "colab": {
          "base_uri": "https://localhost:8080/"
        },
        "id": "9HLkEj9Wp6gB",
        "outputId": "1a57f12e-0828-4800-b415-52a79aba2c6d"
      },
      "source": [
        "pd.set_option('display.max_rows', 5000)\n",
        "mail.Folder.value_counts()"
      ],
      "execution_count": null,
      "outputs": [
        {
          "output_type": "execute_result",
          "data": {
            "text/plain": [
              "all documents                                        128103\n",
              "discussion threads                                    58609\n",
              "sent                                                  58168\n",
              "deleted items                                         50987\n",
              "inbox                                                 41507\n",
              "sent items                                            37920\n",
              "notes inbox                                           36665\n",
              "'sent mail                                            30237\n",
              "untitled                                               8957\n",
              "personal                                               2642\n",
              "attachments                                            2026\n",
              "meetings                                               1872\n",
              "calendar                                               1732\n",
              "schedule crawler                                       1398\n",
              "logistics                                              1192\n",
              "tw-commercial group                                    1159\n",
              "california                                             1052\n",
              "bill williams iii                                      1022\n",
              "deal discrepancies                                      897\n",
              "management                                              802\n",
              "esvl                                                    715\n",
              "e-mail bin                                              614\n",
              "resumes                                                 609\n",
              "tufco                                                   609\n",
              "ces                                                     576\n",
              "online trading                                          573\n",
              "junk                                                    560\n",
              "junk file                                               511\n",
              "ooc                                                     511\n",
              "genco-jv_ipo                                            486\n",
              "projects                                                468\n",
              "archives                                                448\n",
              "contacts                                                437\n",
              "corporate                                               421\n",
              "hr                                                      402\n",
              "it                                                      369\n",
              "universities                                            367\n",
              "iso_ pricecaps                                          359\n",
              "connect deletes                                         350\n",
              "wellhead                                                339\n",
              "to do                                                   332\n",
              "read                                                    318\n",
              "california issues                                       317\n",
              "eesirenewableenergy                                     296\n",
              "europe                                                  295\n",
              "ferc                                                    277\n",
              "info                                                    277\n",
              "eol                                                     274\n",
              "ene_ect                                                 270\n",
              "regulatory                                              268\n",
              "'sent                                                   265\n",
              "articles                                                263\n",
              "nelson                                                  259\n",
              "enron news                                              258\n",
              "east power                                              257\n",
              "corporate comm                                          254\n",
              "gir                                                     250\n",
              "eci                                                     249\n",
              "misc                                                    246\n",
              "heat wave                                               244\n",
              "master netting                                          243\n",
              "industrials                                             236\n",
              "market                                                  232\n",
              "transport                                               230\n",
              "24 hour                                                 229\n",
              "lm6000                                                  227\n",
              "janie                                                   226\n",
              "volume mang.                                            223\n",
              "conferences                                             223\n",
              "rice                                                    210\n",
              "8_00                                                    210\n",
              "ctg-deals                                               205\n",
              "portland                                                203\n",
              "london                                                  195\n",
              "techmemos                                               187\n",
              "interviews                                              186\n",
              "yazoo city                                              186\n",
              "enron t&s                                               180\n",
              "entex                                                   180\n",
              "recruiting                                              177\n",
              "old messages                                            170\n",
              "pan energy swap                                         164\n",
              "eol & tagg                                              164\n",
              "canada                                                  155\n",
              "5_00                                                    154\n",
              "sun devil                                               152\n",
              "australia                                               150\n",
              "cleburne plant - \"cornhusker\"                           148\n",
              "systems                                                 148\n",
              "japan                                                   148\n",
              "credit                                                  147\n",
              "wordsmith                                               147\n",
              "myfriends                                               146\n",
              "personnel                                               146\n",
              "var                                                     145\n",
              "central                                                 142\n",
              "general stuff                                           141\n",
              "7_00                                                    139\n",
              "power marketer                                          136\n",
              "time off                                                134\n",
              "nsm                                                     133\n",
              "saved sent                                              132\n",
              "gas                                                     131\n",
              "motley fool e-mails                                     131\n",
              "9_00                                                    131\n",
              "6_00                                                    131\n",
              "rainy day                                               125\n",
              "mrkt info                                               125\n",
              "mexico                                                  124\n",
              "blue dog                                                121\n",
              "old inbox                                               120\n",
              "ge general                                              118\n",
              "personalfolder                                          118\n",
              "india                                                   116\n",
              "presentations                                           113\n",
              "06-saved                                                113\n",
              "work mail                                               112\n",
              "nerc                                                    111\n",
              "corp info_announcements                                 111\n",
              "rto                                                     111\n",
              "cinergy index                                           110\n",
              "doorstep                                                109\n",
              "coral                                                   107\n",
              "quotes                                                  107\n",
              "panda                                                   107\n",
              "sap                                                     106\n",
              "appala                                                  104\n",
              "legal agreements                                        103\n",
              "asset marketing                                         103\n",
              "tasks                                                   101\n",
              "personal mail                                           100\n",
              "07-saved                                                 98\n",
              "administrative                                           97\n",
              "fuel cells                                               97\n",
              "saved mail                                               96\n",
              "miscellaneous                                            96\n",
              "southern cone                                            96\n",
              "_exchange_info                                           94\n",
              "ees                                                      93\n",
              "ca refunds                                               92\n",
              "pr-crisis management                                     92\n",
              "tw                                                       91\n",
              "netco eol                                                91\n",
              "social                                                   91\n",
              "hold                                                     91\n",
              "savedmail                                                90\n",
              "chicago                                                  90\n",
              "10-saved                                                 89\n",
              "senator dunn inv.                                        89\n",
              "humor                                                    89\n",
              "federal legislation                                      88\n",
              "prc                                                      88\n",
              "risk                                                     85\n",
              "correspondence                                           85\n",
              "cleburne/lone star                                       84\n",
              "gossett                                                  84\n",
              "sec media                                                84\n",
              "corp info/announcements                                  84\n",
              "turbines                                                 83\n",
              "congratulations                                          83\n",
              "netco hr                                                 82\n",
              "federal legis.                                           82\n",
              "bankrupt                                                 82\n",
              "mrha                                                     82\n",
              "credit issues                                            82\n",
              "legal                                                    81\n",
              "press                                                    81\n",
              "symesees                                                 81\n",
              "internet                                                 80\n",
              "ctpy name changes                                        78\n",
              "redrock mainline expansion                               77\n",
              "denver                                                   77\n",
              "finance                                                  77\n",
              "stanford                                                 76\n",
              "ut                                                       76\n",
              "human resources                                          75\n",
              "credit derivatives                                       75\n",
              "murray                                                   75\n",
              "glover                                                   74\n",
              "retail                                                   74\n",
              "off balance sheet_form contracts                         74\n",
              "enovate                                                  74\n",
              "citizens utilities                                       73\n",
              "organizational issues                                    73\n",
              "california - working group                               72\n",
              "hpl                                                      72\n",
              "cornhusker                                               71\n",
              "mba program                                              71\n",
              "environmental issues                                     71\n",
              "travel                                                   70\n",
              "scheduling                                               70\n",
              "florida                                                  70\n",
              "2001/11                                                  69\n",
              "pg&e pcbs                                                68\n",
              "px                                                       68\n",
              "carol stclair                                            68\n",
              "personal stuff                                           67\n",
              "eol access                                               67\n",
              "notre dame                                               66\n",
              "saved-04                                                 66\n",
              "wholesale markets                                        65\n",
              "hpl customers                                            65\n",
              "ft. pierce                                               65\n",
              "church                                                   64\n",
              "05-saved                                                 64\n",
              "old email                                                64\n",
              "gas customers - chris foster                             64\n",
              "unify                                                    63\n",
              "westinghouse                                             63\n",
              "trading info                                             61\n",
              "tradecounts                                              61\n",
              "iso/ pricecaps                                           61\n",
              "netco restart                                            61\n",
              "misc.                                                    61\n",
              "epmi - power                                             61\n",
              "kq / dq                                                  60\n",
              "ffl                                                      60\n",
              "eesi_deleted_documents                                   59\n",
              "lisa j                                                   59\n",
              "2001/08                                                  59\n",
              "business plans                                           58\n",
              "ecoelectrica                                             57\n",
              "rto campaign                                             57\n",
              "evaluation                                               57\n",
              "miso                                                     56\n",
              "fyi                                                      56\n",
              "skew                                                     56\n",
              "ect admin                                                56\n",
              "funny                                                    55\n",
              "publications                                             55\n",
              "2002 budget                                              55\n",
              "mark                                                     55\n",
              "mg                                                       55\n",
              "vepco                                                    55\n",
              "alaska gas                                               54\n",
              "storage                                                  54\n",
              "transmission                                             54\n",
              "broker quotes                                            54\n",
              "new power                                                54\n",
              "budget                                                   54\n",
              "24-hr power                                              53\n",
              "11_99                                                    53\n",
              "commoditylogic                                           53\n",
              "2001/07                                                  53\n",
              "november1999                                             53\n",
              "tva                                                      52\n",
              "wilson, shona                                            52\n",
              "confirms                                                 52\n",
              "project summer                                           51\n",
              "ei                                                       51\n",
              "organizational changes                                   51\n",
              "broker client                                            51\n",
              "mba--macroeconomics                                      51\n",
              "texas                                                    51\n",
              "procaribe                                                50\n",
              "rac                                                      50\n",
              "6day                                                     50\n",
              "credit watch list                                        50\n",
              "hea/nesa                                                 50\n",
              "tammie                                                   50\n",
              "restructuring                                            49\n",
              "pge                                                      49\n",
              "enron                                                    48\n",
              "pacific virgo                                            48\n",
              "emailaddresses                                           48\n",
              "netco legal                                              48\n",
              "palo alto                                                48\n",
              "saved-03                                                 48\n",
              "sempra                                                   47\n",
              "crestar                                                  47\n",
              "market intel                                             47\n",
              "california crisis--press                                 46\n",
              "memos                                                    46\n",
              "power e-mails                                            46\n",
              "tenaska                                                  46\n",
              "10 fantasy                                               46\n",
              "deals                                                    46\n",
              "policy                                                   46\n",
              "client rep                                               45\n",
              "tall_dominion                                            45\n",
              "letters                                                  45\n",
              "judy                                                     45\n",
              "credit watch                                             45\n",
              "business                                                 45\n",
              "bridgeline                                               45\n",
              "_exchange_pos                                            45\n",
              "cftc                                                     44\n",
              "save the date                                            44\n",
              "lng                                                      44\n",
              "bankruptcy                                               44\n",
              "southern                                                 44\n",
              "azurix                                                   44\n",
              "consultants                                              44\n",
              "brokerage agreements                                     43\n",
              "value                                                    43\n",
              "tw fuel sales                                            43\n",
              "customer - oneok                                         43\n",
              "california legal issues                                  43\n",
              "pipeline info                                            43\n",
              "fin desk                                                 43\n",
              "misc tw                                                  43\n",
              "product descriptions                                     43\n",
              "org announc. & chrts                                     42\n",
              "09-saved                                                 42\n",
              "west-bank                                                42\n",
              "stored messages                                          42\n",
              "performance management                                   42\n",
              "sager - general                                          42\n",
              "dlr                                                      42\n",
              "hea_nesa                                                 41\n",
              "national campaign                                        41\n",
              "south america                                            41\n",
              "koch                                                     41\n",
              "mckinsey project                                         41\n",
              "midwest                                                  41\n",
              "aadepartment                                             41\n",
              "internet sites                                           40\n",
              "kpmg                                                     40\n",
              "friends                                                  40\n",
              "analyst_assoc program                                    40\n",
              "working groups                                           40\n",
              "security request                                         40\n",
              "training                                                 39\n",
              "personnal                                                39\n",
              "credit watchlist                                         39\n",
              "teco                                                     38\n",
              "market structure                                         38\n",
              "eesiisopjm                                               38\n",
              "eott midland                                             38\n",
              "dominion                                                 38\n",
              "enron lng                                                37\n",
              "eesidealsgsaregion1                                      37\n",
              "portland general                                         37\n",
              "dow jones                                                37\n",
              "broadband services                                       37\n",
              "fundamentals                                             37\n",
              "bmr                                                      37\n",
              "family                                                   36\n",
              "2001/10                                                  36\n",
              "current issues                                           36\n",
              "2000 year end                                            36\n",
              "enron mentions                                           36\n",
              "research                                                 36\n",
              "swap group project lists                                 36\n",
              "southern trails                                          36\n",
              "elizabeth                                                35\n",
              "offsite                                                  35\n",
              "kiodex                                                   35\n",
              "accounting                                               35\n",
              "questar                                                  35\n",
              "east desk                                                34\n",
              "distributed generation                                   34\n",
              "gas issues                                               34\n",
              "reg risk                                                 34\n",
              "board                                                    34\n",
              "08-saved                                                 34\n",
              "mba--e-commerce                                          34\n",
              "sqmd                                                     33\n",
              "sec                                                      33\n",
              "dublin                                                   33\n",
              "saved-02                                                 33\n",
              "patriotism                                               33\n",
              "enrononline                                              33\n",
              "weather                                                  33\n",
              "europe-june                                              33\n",
              "mid markt                                                33\n",
              "texas b-school                                           32\n",
              "_exchange                                                32\n",
              "dabhol                                                   32\n",
              "1_00                                                     32\n",
              "brazil                                                   32\n",
              "duke                                                     32\n",
              "saved-01                                                 32\n",
              "caliornia - investigations                               32\n",
              "enron bike club                                          32\n",
              "confirm desk                                             32\n",
              "asset group                                              32\n",
              "risk reports                                             31\n",
              "info3                                                    31\n",
              "belden                                                   31\n",
              "gpg                                                      31\n",
              "project stanley                                          31\n",
              "red rock                                                 31\n",
              "ubswenergy.com                                           31\n",
              "whatever                                                 31\n",
              "contact list                                             31\n",
              "lt contracts                                             31\n",
              "steel                                                    31\n",
              "midway                                                   31\n",
              "west                                                     30\n",
              "msap-info                                                30\n",
              "organization                                             30\n",
              "bammel stg                                               30\n",
              "ev                                                       30\n",
              "wto                                                      30\n",
              "ecogas                                                   30\n",
              "hs                                                       30\n",
              "cya                                                      30\n",
              "middle market                                            30\n",
              "egm                                                      30\n",
              "sites                                                    30\n",
              "foster_ward                                              30\n",
              "solmonson, mary                                          29\n",
              "retail markets                                           29\n",
              "project california                                       29\n",
              "international                                            29\n",
              "genco                                                    29\n",
              "corp memos                                               29\n",
              "reports                                                  29\n",
              "carr                                                     29\n",
              "pictures                                                 29\n",
              "trevor                                                   28\n",
              "enron kids                                               28\n",
              "enron advisonry council                                  28\n",
              "mba--quant                                               28\n",
              "chicago office                                           28\n",
              "federal gov't affairs                                    28\n",
              "security / collateral                                    28\n",
              "glover, sheila                                           28\n",
              "compliments                                              28\n",
              "performance                                              28\n",
              "mcloughlin, hector                                       28\n",
              "cle                                                      28\n",
              "cera                                                     28\n",
              "tq                                                       27\n",
              "natural gas strategy                                     27\n",
              "action items in                                          27\n",
              "mapp                                                     27\n",
              "culture                                                  27\n",
              "vermont yankee nuke                                      27\n",
              "smurfit                                                  27\n",
              "operational sales                                        27\n",
              "measurement                                              27\n",
              "metering and forcasting                                  27\n",
              "el paso                                                  26\n",
              "confirms - paper & pulp                                  26\n",
              "design                                                   26\n",
              "capacity marketing                                       26\n",
              "e-mail                                                   26\n",
              "organizational announcements                             26\n",
              "nox model                                                26\n",
              "presto working files                                     26\n",
              "catalytica                                               26\n",
              "pnw refunds                                              26\n",
              "markets                                                  26\n",
              "e_services                                               26\n",
              "old                                                      26\n",
              "mesa                                                     26\n",
              "fun emails                                               25\n",
              "ormet                                                    25\n",
              "internal communications                                  25\n",
              "jays stuff                                               25\n",
              "kcs                                                      25\n",
              "finanial operations                                      25\n",
              "brokerage accounts                                       25\n",
              "esai                                                     25\n",
              "kafus                                                    25\n",
              "east coast power                                         25\n",
              "citizens                                                 24\n",
              "gspp conference                                          24\n",
              "midland cogen                                            24\n",
              "charges                                                  24\n",
              "chase mah_stone                                          24\n",
              "content                                                  24\n",
              "analyst/associate                                        24\n",
              "tcpl                                                     24\n",
              "juniper                                                  24\n",
              "price, brent                                             24\n",
              "daily blessings                                          24\n",
              "guatemala                                                24\n",
              "hall, bob                                                24\n",
              "passwords                                                24\n",
              "elpaso pipeline                                          24\n",
              "power conf                                               24\n",
              "2001 budget                                              23\n",
              "ubs warburg                                              23\n",
              "2001/06                                                  23\n",
              "marc phillips                                            23\n",
              "causey, rick                                             23\n",
              "tss                                                      23\n",
              "pasadena                                                 23\n",
              "daily balancing report                                   23\n",
              "brazos                                                   23\n",
              "co op city                                               23\n",
              "ees neg ctc                                              22\n",
              "netco                                                    22\n",
              "marketing                                                22\n",
              "amerex                                                   22\n",
              "general research                                         22\n",
              "sandy                                                    22\n",
              "knowledge management                                     22\n",
              "dpr                                                      22\n",
              "enron online                                             22\n",
              "ees matters                                              22\n",
              "vng                                                      22\n",
              "vacations                                                21\n",
              "org. announc.                                            21\n",
              "tech services                                            21\n",
              "hpl sell                                                 21\n",
              "rm work order                                            21\n",
              "delainey, dave                                           21\n",
              "fire chief                                               21\n",
              "confidentiality                                          21\n",
              "enron travel club                                        21\n",
              "cps                                                      21\n",
              "mba--financial reporting                                 21\n",
              "sithe                                                    21\n",
              "ina                                                      21\n",
              "brazos lp                                                21\n",
              "vp prc                                                   21\n",
              "resume                                                   20\n",
              "commercialization                                        20\n",
              "personal contacts                                        20\n",
              "risk management                                          20\n",
              "rto filings- order 2000                                  20\n",
              "radack                                                   20\n",
              "haywood                                                  20\n",
              "abramo                                                   20\n",
              "interconnection                                          20\n",
              "uk trading                                               20\n",
              "mary schoen                                              20\n",
              "pacific valour                                           20\n",
              "sitara                                                   20\n",
              "wells                                                    20\n",
              "neil b.                                                  20\n",
              "california crisis                                        20\n",
              "2001 prc- midyear                                        20\n",
              "big sandy - caithness                                    20\n",
              "trading issues                                           20\n",
              "enron global markets                                     20\n",
              "entelligence                                             20\n",
              "other                                                    19\n",
              "origination                                              19\n",
              "candis                                                   19\n",
              "saved                                                    19\n",
              "argentina                                                19\n",
              "stf                                                      19\n",
              "meeting invites_confirms                                 19\n",
              "murphy, ted                                              19\n",
              "ca data sheet checks                                     19\n",
              "r                                                        19\n",
              "stuff                                                    19\n",
              "industry mentions                                        19\n",
              "pr - notre dame                                          19\n",
              "operations committee/isas                                19\n",
              "enron corp                                               19\n",
              "california campaign                                      19\n",
              "2001 objectives                                          19\n",
              "apollo, beth                                             19\n",
              "meetings - nng customer mtg                              18\n",
              "estate                                                   18\n",
              "tom's docs                                               18\n",
              "perfmgmt                                                 18\n",
              "rt strat                                                 18\n",
              "antitrust                                                18\n",
              "granite \"2\"                                              18\n",
              "no more confirms                                         18\n",
              "important e-mails                                        18\n",
              "enviromental                                             18\n",
              "pep                                                      18\n",
              "metals                                                   18\n",
              "confirms-power                                           18\n",
              "andersen requests                                        18\n",
              "press releases                                           18\n",
              "fun                                                      18\n",
              "isda                                                     18\n",
              "ene/ect                                                  18\n",
              "contracts                                                18\n",
              "ees mgmt                                                 18\n",
              "new england_ny                                           18\n",
              "term proposals                                           18\n",
              "southamerica                                             18\n",
              "tw outages                                               18\n",
              "market team                                              18\n",
              "continental                                              17\n",
              "methanol plant                                           17\n",
              "eott                                                     17\n",
              "pjm                                                      17\n",
              "tnrcc                                                    17\n",
              "move                                                     17\n",
              "bill                                                     17\n",
              "bid/ask                                                  17\n",
              "senate testimony re california                           17\n",
              "to do list                                               17\n",
              "security                                                 17\n",
              "elizabeth sager                                          17\n",
              "art comm                                                 17\n",
              "clickathome                                              17\n",
              "iroquois                                                 17\n",
              "file                                                     17\n",
              "new york                                                 17\n",
              "oman lng                                                 17\n",
              "hoegh galleon                                            16\n",
              "triple-lux                                               16\n",
              "transwestern                                             16\n",
              "personnel - paa                                          16\n",
              "pg&e bankruptcy                                          16\n",
              "netco reg                                                16\n",
              "california-pg&e bankruptcy                               16\n",
              "networks                                                 16\n",
              "wptf                                                     16\n",
              "bmc                                                      16\n",
              "usgt                                                     16\n",
              "vargas becton lamb                                       16\n",
              "uniform business rules                                   16\n",
              "legislation                                              16\n",
              "so2                                                      16\n",
              "global markets                                           16\n",
              "imagesmoviessound                                        16\n",
              "market structure( seabron adamson)                       16\n",
              "gossett, jeff                                            16\n",
              "large messages                                           16\n",
              "entouch                                                  16\n",
              "s.a. trading                                             16\n",
              "europe-july                                              16\n",
              "sonat                                                    16\n",
              "saved-12                                                 16\n",
              "refund cases                                             16\n",
              "itinerary/off duty                                       15\n",
              "eco - cond. of use                                       15\n",
              "it - misc.                                               15\n",
              "pearce, barry                                            15\n",
              "jokes                                                    15\n",
              "analyst prog                                             15\n",
              "restricted list                                          15\n",
              "ut mba                                                   15\n",
              "weekly activity report                                   15\n",
              "industrial cust. solutions                               15\n",
              "pipeline matters                                         15\n",
              "schultz, cassandra                                       15\n",
              "preschedule                                              15\n",
              "herod, brenda                                            15\n",
              "capacity release                                         15\n",
              "charles                                                  15\n",
              "ring trades                                              15\n",
              "dra info                                                 15\n",
              "dana's extras                                            15\n",
              "ebs                                                      15\n",
              "pemex trans pecos                                        15\n",
              "meetings - general                                       15\n",
              "trading                                                  15\n",
              "pipeline issues                                          15\n",
              "bush                                                     15\n",
              "ase                                                      15\n",
              "hall, todd                                               15\n",
              "govt                                                     15\n",
              "western gas                                              15\n",
              "2001/09                                                  14\n",
              "tep                                                      14\n",
              "rto west                                                 14\n",
              "engage                                                   14\n",
              "columbia gas/gulf                                        14\n",
              "contract/bids                                            14\n",
              "bush transition                                          14\n",
              "ibuyit                                                   14\n",
              "tsunami                                                  14\n",
              "n-form                                                   14\n",
              "csu fresno                                               14\n",
              "venezuela/colombia                                       14\n",
              "enron compressor services                                14\n",
              "ees 2-ways                                               14\n",
              "mckinley                                                 14\n",
              "crestone                                                 14\n",
              "kelly                                                    14\n",
              "tw imbalances                                            14\n",
              "newsletter                                               14\n",
              "wessex                                                   14\n",
              "dynegy transaction                                       14\n",
              "hedstrom, peggy                                          14\n",
              "compaq                                                   14\n",
              "personnel issues                                         14\n",
              "cfp                                                      14\n",
              "junk e-mail                                              14\n",
              "edwards air force                                        14\n",
              "c_s no. 6 remediation                                    13\n",
              "ernie-training                                           13\n",
              "art                                                      13\n",
              "mtbe                                                     13\n",
              "stagecoach                                               13\n",
              "paris                                                    13\n",
              "archives - post revised order                            13\n",
              "oneok                                                    13\n",
              "ohio                                                     13\n",
              "argentina legal report                                   13\n",
              "performance review                                       13\n",
              "california - excess profits tax                          13\n",
              "settlements                                              13\n",
              "risk analytics                                           13\n",
              "vacation                                                 13\n",
              "resumes for recruiting                                   13\n",
              "administrivia                                            13\n",
              "mkt affiliate                                            13\n",
              "2000                                                     13\n",
              "new hires                                                13\n",
              "2000 year end                                            13\n",
              "hp                                                       13\n",
              "pipeinfo                                                 13\n",
              "espeed                                                   13\n",
              "perez, eugenio                                           12\n",
              "netco canada                                             12\n",
              "netco credit                                             12\n",
              "compression services                                     12\n",
              "nng                                                      12\n",
              "systems problems                                         12\n",
              "continental airlines                                     12\n",
              "pg&e hydro sale                                          12\n",
              "earnings                                                 12\n",
              "vpp                                                      12\n",
              "northern border                                          12\n",
              "trailblazer                                              12\n",
              "monmouth                                                 12\n",
              "cage                                                     12\n",
              "felecia fitzgerald                                       12\n",
              "eta amendments                                           12\n",
              "resco                                                    12\n",
              "powereast                                                12\n",
              "tax                                                      12\n",
              "national fuel                                            12\n",
              "c_s no. 9 remediation                                    12\n",
              "pipelines                                                12\n",
              "requests                                                 12\n",
              "contributions                                            12\n",
              "nymex                                                    12\n",
              "enron communications                                     12\n",
              "advertising                                              12\n",
              "global standards                                         12\n",
              "banding                                                  12\n",
              "datek                                                    12\n",
              "bhp                                                      11\n",
              "meetings - tw customer                                   11\n",
              "parking                                                  11\n",
              "misc. gas issues                                         11\n",
              "ab 1890 group                                            11\n",
              "california humor                                         11\n",
              "promotions                                               11\n",
              "corporate responsibility                                 11\n",
              "brm                                                      11\n",
              "assoc 2000 ye                                            11\n",
              "coal                                                     11\n",
              "caledonia                                                11\n",
              "netco it                                                 11\n",
              "cash                                                     11\n",
              "mba--marketing                                           11\n",
              "current estimate                                         11\n",
              "tennessee                                                11\n",
              "garcia munte                                             11\n",
              "ercot                                                    11\n",
              "piper, greg                                              11\n",
              "timbelden                                                11\n",
              "cousino, lisa                                            11\n",
              "powerwest                                                11\n",
              "el paso electric                                         11\n",
              "australia trading                                        11\n",
              "personnel - prc 2001 year end                            11\n",
              "aquila                                                   11\n",
              "gtcs                                                     11\n",
              "pca                                                      11\n",
              "argentina isda                                           11\n",
              "akzo nobel - filtrol                                     11\n",
              "associate                                                11\n",
              "misc tie ins                                             11\n",
              "smud                                                     11\n",
              "ofos                                                     11\n",
              "standards                                                11\n",
              "truequote                                                10\n",
              "eesiisonewengland                                        10\n",
              "first delivery                                           10\n",
              "accomplish                                               10\n",
              "brazil news                                              10\n",
              "ethics/ljm/notre dame                                    10\n",
              "cars                                                     10\n",
              "archive                                                  10\n",
              "old sent                                                 10\n",
              "perfomance evaluation                                    10\n",
              "vanderbilt                                               10\n",
              "jdf                                                      10\n",
              "schedule c                                               10\n",
              "infrastructure                                           10\n",
              "lost creek                                               10\n",
              "southern cone financial masters                          10\n",
              "mid-atlantic                                             10\n",
              "goals 2000                                               10\n",
              "frontera                                                 10\n",
              "italy                                                    10\n",
              "nymex prices                                             10\n",
              "hr-data                                                  10\n",
              "enron updates                                            10\n",
              "compensation                                             10\n",
              "producer services                                        10\n",
              "customer - virginia power/dominion                       10\n",
              "heof_intrust                                             10\n",
              "genie                                                    10\n",
              "art committee                                            10\n",
              "pcb's                                                    10\n",
              "2001 budget- cost cutting                                10\n",
              "memo's                                                   10\n",
              "pg&e meetings and notes                                  10\n",
              "pcb modeling study                                        9\n",
              "yoder                                                     9\n",
              "naesb                                                     9\n",
              "mba--advanced finance                                     9\n",
              "ingaastudy                                                9\n",
              "tw - socal window procedure                               9\n",
              "bastos                                                    9\n",
              "euncie_texaco remediation                                 9\n",
              "curve validation                                          9\n",
              "moosehead                                                 9\n",
              "2001 mid year prc                                         9\n",
              "ferc interconnection anopr                                9\n",
              "hr stats                                                  9\n",
              "citibank                                                  9\n",
              "jrhernandez                                               9\n",
              "europe-october                                            9\n",
              "vacations 2001                                            9\n",
              "la plata c_s                                              9\n",
              "important info                                            9\n",
              "pending                                                   9\n",
              "gomez remediation                                         9\n",
              "atoka lateral                                             9\n",
              "new job                                                   9\n",
              "marks                                                     9\n",
              "holden's                                                  9\n",
              "hickerson                                                 9\n",
              "credit rings                                              9\n",
              "mba--finance                                              9\n",
              "tw - transactional requirements                           9\n",
              "pswds                                                     9\n",
              "pira                                                      9\n",
              "tw weekly report                                          9\n",
              "global mkts                                               9\n",
              "contact emp. list                                         9\n",
              "socal pcb's                                               9\n",
              "poland                                                    9\n",
              "val                                                       9\n",
              "swap group                                                9\n",
              "acctg - measurement issues                                9\n",
              "clickpaper                                                9\n",
              "business council                                          8\n",
              "ou                                                        8\n",
              "brazil - derivatives                                      8\n",
              "universal studios                                         8\n",
              "speeches                                                  8\n",
              "g. robinson                                               8\n",
              "trans pecos                                               8\n",
              "vision and values                                         8\n",
              "cuiaba                                                    8\n",
              "dpc lng                                                   8\n",
              "leg conf topics                                           8\n",
              "cost controls                                             8\n",
              "agave tie in                                              8\n",
              "mid-columbia                                              8\n",
              "cal px                                                    8\n",
              "2000 assoc mid year                                       8\n",
              "ogelthorpe                                                8\n",
              "websites                                                  8\n",
              "ei execs                                                  8\n",
              "gri timesheets                                            8\n",
              "untitledmartin                                            8\n",
              "so trails                                                 8\n",
              "straw                                                     8\n",
              "kidsave                                                   8\n",
              "monthly dpr adjustments                                   8\n",
              "generation                                                8\n",
              "democrats                                                 8\n",
              "longview                                                  8\n",
              "rocky mountain elk foundation                             8\n",
              "governor davis meeting                                    8\n",
              "kn energy                                                 8\n",
              "personel/vac                                              8\n",
              "california messages                                       8\n",
              "emetra                                                    8\n",
              "p-1 c_s nov                                               8\n",
              "dabhol - cond. of use                                     8\n",
              "office of the chair                                       8\n",
              "cal articles                                              8\n",
              "psco                                                      8\n",
              "kern                                                      7\n",
              "argentina - financial trading                             7\n",
              "sundevil pipeline project                                 7\n",
              "dj articles                                               7\n",
              "gomez                                                     7\n",
              "book issues                                               7\n",
              "monetization_el paso                                      7\n",
              "tax issues                                                7\n",
              "uh                                                        7\n",
              "credit agreement/merger related                           7\n",
              "global                                                    7\n",
              "twdatarequests                                            7\n",
              "outlook migration                                         7\n",
              "long beach                                                7\n",
              "prepays&structured deals                                  7\n",
              "fpl-genco                                                 7\n",
              "calp_hopewell                                             7\n",
              "technical                                                 7\n",
              "shopping                                                  7\n",
              "data                                                      7\n",
              "general rate case(s)                                      7\n",
              "mahonia                                                   7\n",
              "junk mail                                                 7\n",
              "tw neg rates                                              7\n",
              "peoples hedges                                            7\n",
              "isda matters                                              7\n",
              "boyd                                                      7\n",
              "mba--accounting                                           7\n",
              "centana storage                                           7\n",
              "benefits                                                  7\n",
              "ene houston                                               7\n",
              "wisconsin                                                 7\n",
              "reliant energy                                            7\n",
              "immediate response                                        7\n",
              "older than 30                                             7\n",
              "smud e-mails                                              7\n",
              "enron online summary                                      7\n",
              "press1                                                    7\n",
              "first gas                                                 7\n",
              "waha                                                      7\n",
              "audit                                                     7\n",
              "paintball                                                 7\n",
              "gbn                                                       7\n",
              "sacramento                                                7\n",
              "12 fantasy                                                7\n",
              "policy manual and united way                              7\n",
              "controls                                                  7\n",
              "storage - alloc process                                   7\n",
              "review                                                    7\n",
              "ebay                                                      7\n",
              "beeson                                                    7\n",
              "florida issues                                            7\n",
              "oslo                                                      7\n",
              "ecommerce                                                 7\n",
              "hopwood, tom                                              7\n",
              "enhome                                                    7\n",
              "electricity restructuring advisory group                  7\n",
              "julie                                                     7\n",
              "marketingaffiliate                                        7\n",
              "helsinki                                                  7\n",
              "caem                                                      6\n",
              "ena cal                                                   6\n",
              "intr-month book                                           6\n",
              "jean                                                      6\n",
              "options                                                   6\n",
              "comp                                                      6\n",
              "kim's files                                               6\n",
              "home buy                                                  6\n",
              "mega_morgan assignment                                    6\n",
              "ofccp audit                                               6\n",
              "esource                                                   6\n",
              "post bankruptcy                                           6\n",
              "tracy                                                     6\n",
              "glendale                                                  6\n",
              "2_00                                                      6\n",
              "dynegy                                                    6\n",
              "highland                                                  6\n",
              "congress                                                  6\n",
              "mrt                                                       6\n",
              "kitchen, louise                                           6\n",
              "appalachain                                               6\n",
              "2001 plan                                                 6\n",
              "glen hass                                                 6\n",
              "surveys                                                   6\n",
              "m&a                                                       6\n",
              "blackbird                                                 6\n",
              "2001/05                                                   6\n",
              "desk matters                                              6\n",
              "cross border task force                                   6\n",
              "top 10 issues 6/1/01                                      6\n",
              "customer - uses                                           6\n",
              "fasb133                                                   6\n",
              "fedex                                                     6\n",
              "expense rpts. 1997                                        6\n",
              "north crawar remediation                                  6\n",
              "brazil- champion                                          6\n",
              "200106                                                    6\n",
              "operating rpts                                            6\n",
              "moscoso, mike                                             6\n",
              "outbox                                                    6\n",
              "temporary                                                 6\n",
              "shankman, jeff                                            6\n",
              "southern lng                                              6\n",
              "southwest gas pcb's                                       6\n",
              "brenda herod                                              6\n",
              "direct access battle                                      6\n",
              "eesiphysicalpowerdelivery                                 6\n",
              "sony                                                      6\n",
              "goals and objectives 1999                                 6\n",
              "annex 5                                                   6\n",
              "national steel                                            6\n",
              "southeast                                                 6\n",
              "mark whitt                                                6\n",
              "monthly pma's                                             6\n",
              "credit worksheets                                         6\n",
              "synfuel tax crredits                                      6\n",
              "capx                                                      6\n",
              "nat gas                                                   6\n",
              "gre                                                       6\n",
              "visions & values                                          5\n",
              "volatility                                                5\n",
              "wx                                                        5\n",
              "my personal                                               5\n",
              "affiliate codes of conduct                                5\n",
              "personal addresses                                        5\n",
              "not printed                                               5\n",
              "phone numbers                                             5\n",
              "ema's                                                     5\n",
              "grupo chihuahua                                           5\n",
              "iso                                                       5\n",
              "floorspace                                                5\n",
              "click at home                                             5\n",
              "enbridge                                                  5\n",
              "expense reports                                           5\n",
              "cdwr                                                      5\n",
              "pg&e                                                      5\n",
              "customer - reliant retail energy minneapolis              5\n",
              "noresco                                                   5\n",
              "2001 prc ets mid year                                     5\n",
              "kingdom                                                   5\n",
              "tdc energy                                                5\n",
              "campaign 2000                                             5\n",
              "global counterpary                                        5\n",
              "ad gas                                                    5\n",
              "duffie                                                    5\n",
              "california coverup                                        5\n",
              "stanley                                                   5\n",
              "southeast legal                                           5\n",
              "greg couch                                                5\n",
              "data protection                                           5\n",
              "hr risk management                                        5\n",
              "mgmt summary                                              5\n",
              "vitro                                                     5\n",
              "bernhardt                                                 5\n",
              "customer - midam                                          5\n",
              "hist-vols                                                 5\n",
              "neumin                                                    5\n",
              "rm science review                                         5\n",
              "netco portland                                            5\n",
              "non-us offices                                            5\n",
              "position                                                  5\n",
              "trs                                                       5\n",
              "nrg                                                       5\n",
              "takeover                                                  5\n",
              "gore                                                      5\n",
              "garden state paper                                        5\n",
              "training - business objects                               5\n",
              "shipper list                                              5\n",
              "special                                                   5\n",
              "qse                                                       5\n",
              "ebs redeployment                                          5\n",
              "monterrey office                                          5\n",
              "transamonia                                               5\n",
              "infineum                                                  5\n",
              "white, stacey                                             5\n",
              "weekly reports - 2001                                     5\n",
              "reliant-entex                                             5\n",
              "nng - sla settlement                                      5\n",
              "ccv                                                       5\n",
              "park 'n ride                                              5\n",
              "arena                                                     5\n",
              "order 637                                                 5\n",
              "agave                                                     5\n",
              "west gas                                                  5\n",
              "avaya                                                     5\n",
              "osha                                                      5\n",
              "customer - alliant                                        5\n",
              "frito lay                                                 5\n",
              "mariner                                                   5\n",
              "fundementals                                              5\n",
              "loaddata                                                  5\n",
              "epsa                                                      5\n",
              "confirms - argentina                                      5\n",
              "agency.com                                                5\n",
              "econ 201                                                  5\n",
              "market services                                           5\n",
              "bids & offers                                             5\n",
              "house                                                     5\n",
              "pnm                                                       4\n",
              "ngpl                                                      4\n",
              "compression                                               4\n",
              "golf                                                      4\n",
              "settlements issues                                        4\n",
              "ferc mbr proceeding                                       4\n",
              "customer trip2001                                         4\n",
              "reports - scheduled quantity report                       4\n",
              "iowa                                                      4\n",
              "rail                                                      4\n",
              "meeting invites/confirms                                  4\n",
              "experience enron                                          4\n",
              "hedging                                                   4\n",
              "siegal                                                    4\n",
              "phone lists                                               4\n",
              "personnel - shift differential                            4\n",
              "2000 goals and objectives                                 4\n",
              "et                                                        4\n",
              "staff meeting                                             4\n",
              "gleason--sound                                            4\n",
              "expense acct.                                             4\n",
              "expenses                                                  4\n",
              "ernie                                                     4\n",
              "enron to ubs trans                                        4\n",
              "ces resolved                                              4\n",
              "us gypsum                                                 4\n",
              "commercial opportunities task force                       4\n",
              "house - new                                               4\n",
              "power purchase_eei                                        4\n",
              "capacity                                                  4\n",
              "tw bullets                                                4\n",
              "brazil trips                                              4\n",
              "rt cuts                                                   4\n",
              "boat                                                      4\n",
              "tw - nwpl budget                                          4\n",
              "korea                                                     4\n",
              "power projects                                            4\n",
              "new england/ny                                            4\n",
              "gwolfe                                                    4\n",
              "cec conference                                            4\n",
              "insurance_risk                                            4\n",
              "project jose                                              4\n",
              "nymex                                                     4\n",
              "fundies                                                   4\n",
              "ice                                                       4\n",
              "frevert, mark                                             4\n",
              "2 trash                                                   4\n",
              "indeck corinth                                            4\n",
              "evaluations                                               4\n",
              "hurricane                                                 4\n",
              "importantstuff                                            4\n",
              "ebr                                                       4\n",
              "resource committment req's                                4\n",
              "mba--analysis of financial information                    4\n",
              "organizationalchanges                                     4\n",
              "thank yous                                                4\n",
              "training - 2001                                           4\n",
              "mehpictures                                               4\n",
              "acctg - customer issues on billing                        4\n",
              "mpr                                                       4\n",
              "name change_merger                                        4\n",
              "rc 0946                                                   4\n",
              "prudency                                                  4\n",
              "enron messages                                            4\n",
              "off-site                                                  4\n",
              "economics                                                 4\n",
              "nevada                                                    4\n",
              "tw - imbalances & netting/trading                         4\n",
              "merger with dynegy                                        4\n",
              "middle east                                               4\n",
              "fisher, kristina                                          4\n",
              "eolml7                                                    4\n",
              "prc_ass.mid00                                             4\n",
              "gu recruiting                                             4\n",
              "contract                                                  4\n",
              "alabama gas corp                                          4\n",
              "important information                                     4\n",
              "transco                                                   4\n",
              "requisite                                                 4\n",
              "john mas                                                  4\n",
              "book administrators                                       4\n",
              "confirms - london paper & pulp                            4\n",
              "sce deal                                                  4\n",
              "eesiisonewyork                                            4\n",
              "approval authorizations                                   4\n",
              "itinerary/receipt                                         4\n",
              "analyst meeting 2001                                      4\n",
              "drafts                                                    4\n",
              "ees                                                       4\n",
              "personnel - advance hire assoc                            4\n",
              "lng (global)                                              4\n",
              "personal files                                            4\n",
              "kinko's                                                   4\n",
              "y2k                                                       4\n",
              "mid-market                                                4\n",
              "eei collateral annex                                      4\n",
              "gaza                                                      4\n",
              "itinerary_receipt                                         4\n",
              "toptenrisks                                               4\n",
              "integration - team                                        4\n",
              "ngo's                                                     4\n",
              "aviation                                                  4\n",
              "young, randy                                              4\n",
              "cfee                                                      4\n",
              "storage - third party storage info                        4\n",
              "et&s                                                      4\n",
              "granite ii                                                4\n",
              "traderr tools                                             4\n",
              "fuel                                                      4\n",
              "transpecos                                                3\n",
              "transportation                                            3\n",
              "hr info                                                   3\n",
              "arg. deriv. assn.                                         3\n",
              "vulcan signs                                              3\n",
              "offshore processing                                       3\n",
              "corporate communications                                  3\n",
              "deseret                                                   3\n",
              "girls                                                     3\n",
              "ncpa                                                      3\n",
              "fpl                                                       3\n",
              "ace                                                       3\n",
              "redeployment                                              3\n",
              "leadership development                                    3\n",
              "webmodal                                                  3\n",
              "info2                                                     3\n",
              "enron - general                                           3\n",
              "project dolphin                                           3\n",
              "turkey                                                    3\n",
              "tw - citizens agreement                                   3\n",
              "energymarketplace                                         3\n",
              "ubs                                                       3\n",
              "vargas becton lamb galvan                                 3\n",
              "wholesale policy reform                                   3\n",
              "marketing affiliate                                       3\n",
              "recuriting                                                3\n",
              "ibuyit information                                        3\n",
              "greenhouse gas business                                   3\n",
              "receipts                                                  3\n",
              "saudi arabia project                                      3\n",
              "asset management documents                                3\n",
              "venezuela_colombia                                        3\n",
              "pseg                                                      3\n",
              "stack, shari                                              3\n",
              "powersystems                                              3\n",
              "hesco                                                     3\n",
              "brazil trading                                            3\n",
              "cabot                                                     3\n",
              "renewables                                                3\n",
              "genco-jv/ipo                                              3\n",
              "calpine                                                   3\n",
              "creditworthiness                                          3\n",
              "san diego gas & electric                                  3\n",
              "merchant investments                                      3\n",
              "aec                                                       3\n",
              "enron litigation                                          3\n",
              "billing issues                                            3\n",
              "michcon                                                   3\n",
              "vision & values                                           3\n",
              "mdea                                                      3\n",
              "vacation schedules                                        3\n",
              "virus alerts                                              3\n",
              "print                                                     3\n",
              "e-tag                                                     3\n",
              "coop city                                                 3\n",
              "hilcorp                                                   3\n",
              "trade issues                                              3\n",
              "ne development                                            3\n",
              "world bank                                                3\n",
              "negotiated rates                                          3\n",
              "wind                                                      3\n",
              "nacec                                                     3\n",
              "ctpy contacts                                             3\n",
              "nimo                                                      3\n",
              "ferc code of conduct nopr                                 3\n",
              "university relations                                      3\n",
              "personnel paa                                             3\n",
              "john shafer                                               3\n",
              "scribner, james                                           3\n",
              "new jersey natural                                        3\n",
              "forms                                                     3\n",
              "riskmemos                                                 3\n",
              "top shippers                                              3\n",
              "showstopper rpt                                           3\n",
              "cqg                                                       3\n",
              "austin energy                                             3\n",
              "atlanta                                                   3\n",
              "houstonfundamentals                                       3\n",
              "accting                                                   3\n",
              "stupid things                                             3\n",
              "ken lay                                                   3\n",
              "arcor                                                     3\n",
              "las cruces                                                3\n",
              "saved-11                                                  3\n",
              "affiliate rules                                           3\n",
              "westgas                                                   3\n",
              "powermktassoc                                             3\n",
              "s america                                                 3\n",
              "singapore trading                                         3\n",
              "nbp                                                       3\n",
              "customers                                                 3\n",
              "accounting issues                                         3\n",
              "2001 goals and objectives                                 3\n",
              "mba--managerial accting                                   3\n",
              "central desk class regis.                                 3\n",
              "ena upstream                                              3\n",
              "confirms - equity                                         3\n",
              "nsps for turbines                                         3\n",
              "ag model                                                  3\n",
              "2000 conference                                           3\n",
              "eol rqsts                                                 3\n",
              "illinois                                                  3\n",
              "asset sales                                               3\n",
              "ljm                                                       3\n",
              "course info                                               3\n",
              "new items                                                 3\n",
              "media                                                     3\n",
              "srp                                                       3\n",
              "socal gas                                                 3\n",
              "emissions e-mail                                          3\n",
              "tie meter multipliers                                     3\n",
              "etol                                                      3\n",
              "desert power                                              3\n",
              "doe                                                       3\n",
              "so2 & nox                                                 3\n",
              "erc                                                       3\n",
              "tw rate matrix                                            3\n",
              "analyst associate program                                 3\n",
              "inland                                                    3\n",
              "associate prc                                             3\n",
              "tw - negotiated rates issues                              3\n",
              "performance mgmt.                                         3\n",
              "services                                                  3\n",
              "2001 witchunt                                             3\n",
              "enron networks                                            3\n",
              "sec panel                                                 3\n",
              "newpower                                                  2\n",
              "netco agreements                                          2\n",
              "lexisid                                                   2\n",
              "brazil - esa reports                                      2\n",
              "pg&e pbr                                                  2\n",
              "directaccess                                              2\n",
              "bristol babcock                                           2\n",
              "colleen koenig                                            2\n",
              "vinson & elkins                                           2\n",
              "eim                                                       2\n",
              "telecom                                                   2\n",
              "doj_ grynberg_ quinque                                    2\n",
              "fed legis 2001                                            2\n",
              "pennsylvania                                              2\n",
              "electric reports                                          2\n",
              "ga fundamentals                                           2\n",
              "merced                                                    2\n",
              "dod                                                       2\n",
              "western governors                                         2\n",
              "ballet                                                    2\n",
              "customer list                                             2\n",
              "arco                                                      2\n",
              "360network                                                2\n",
              "bear                                                      2\n",
              "engage e-mails                                            2\n",
              "merit                                                     2\n",
              "off balance sheet/form contracts                          2\n",
              "enron/dynegy                                              2\n",
              "wk                                                        2\n",
              "bug                                                       2\n",
              "pats                                                      2\n",
              "pge sale                                                  2\n",
              "confirms - weather                                        2\n",
              "canada business                                           2\n",
              "default service  opportunities                            2\n",
              "rmt                                                       2\n",
              "alliance rto                                              2\n",
              "misc vod                                                  2\n",
              "marsh usa                                                 2\n",
              "cuiba                                                     2\n",
              "hydro                                                     2\n",
              "ed                                                        2\n",
              "puc                                                       2\n",
              "pcc values                                                2\n",
              "pulp                                                      2\n",
              " hedgefunds                                               2\n",
              "password                                                  2\n",
              "bridge                                                    2\n",
              "lrc_bridgeline                                            2\n",
              "demand information                                        2\n",
              "ontario nug                                               2\n",
              "project orange                                            2\n",
              "ontario oa                                                2\n",
              "oman supply                                               2\n",
              "ontario                                                   2\n",
              "asset council                                             2\n",
              "communications                                            2\n",
              "newpowernoncompete                                        2\n",
              "merchant function group                                   2\n",
              "ipayit information                                        2\n",
              "blotter                                                   2\n",
              "argentina-duke dispute                                    2\n",
              "swap                                                      2\n",
              "noxtech                                                   2\n",
              "michigan                                                  2\n",
              "file space                                                2\n",
              "oyster creek                                              2\n",
              "taxes                                                     2\n",
              "military privatizations                                   2\n",
              "henwood                                                   2\n",
              "on call schedule                                          2\n",
              "albertappas                                               2\n",
              "councilforeignrelations                                   2\n",
              "dell                                                      2\n",
              "vision                                                    2\n",
              "resource management                                       2\n",
              "mid-marketing                                             2\n",
              "san juan expansion                                        2\n",
              "donna                                                     2\n",
              "annual report                                             2\n",
              "unfinaled invoices                                        2\n",
              "process                                                   2\n",
              "carlton resolution                                        2\n",
              "puckett plant                                             2\n",
              "nng - sba                                                 2\n",
              "midesto                                                   2\n",
              "ferc west infrastructure                                  2\n",
              "trading track                                             2\n",
              "pulp,paper,lumber                                         2\n",
              "forest and paper products                                 2\n",
              "freight                                                   2\n",
              "transredes                                                2\n",
              "boomerang                                                 2\n",
              "laptop                                                    2\n",
              "portuguese                                                2\n",
              "assoc/analyst                                             2\n",
              "riskratings                                               2\n",
              "price risk management.                                    2\n",
              "njn                                                       2\n",
              "transition guide                                          2\n",
              "bks                                                       2\n",
              "ml7 eol product                                           2\n",
              "power purchase/eei                                        2\n",
              "master notice                                             2\n",
              "marketing affiliate matters                               2\n",
              "collateral issues                                         2\n",
              "enron property services                                   2\n",
              "supply                                                    2\n",
              "citizens griffith                                         2\n",
              "genco_plant misc                                          2\n",
              "smith barney                                              2\n",
              "pipeline                                                  2\n",
              "updates                                                   2\n",
              "eesimarketstexas                                          2\n",
              "curves                                                    2\n",
              "supply chain                                              2\n",
              "diamonds                                                  2\n",
              "keyex 1997                                                2\n",
              "daishowa                                                  2\n",
              "insideferc                                                2\n",
              "inclement weather list                                    2\n",
              "project 50                                                2\n",
              "eastern new mexico gas co.                                2\n",
              "roseville                                                 2\n",
              "budget - 2002                                             2\n",
              "peak                                                      2\n",
              "naruc                                                     2\n",
              "richardson's                                              2\n",
              "eott due diligence                                        2\n",
              "julie ferrara                                             2\n",
              "admin assist                                              2\n",
              "hpl sale                                                  2\n",
              "abraxas                                                   2\n",
              "interconnection issues                                    2\n",
              "enron credit                                              2\n",
              "reeves, leslie                                            2\n",
              "broker sheets                                             2\n",
              "trading quotes                                            2\n",
              "et contacts                                               2\n",
              "dom rep                                                   2\n",
              "enron south                                               2\n",
              "philippines                                               2\n",
              "hickerson - ag trading                                    2\n",
              "presto files                                              2\n",
              "project fremont                                           2\n",
              "tw - invoicing                                            2\n",
              "labor resumes                                             2\n",
              "exmerge - shively, hunter s.                              2\n",
              "confirms - hickerson                                      2\n",
              "lotus notes link                                          2\n",
              "nepco europe                                              2\n",
              "freestone                                                 2\n",
              "messages                                                  2\n",
              "todd busby                                                2\n",
              "confirms - sample                                         2\n",
              "mba--finance study group                                  2\n",
              "tw options sales program                                  2\n",
              "aquila red lake storage                                   2\n",
              "vector                                                    2\n",
              "direct rpts                                               2\n",
              "personel_vac                                              2\n",
              "uplifting messages                                        2\n",
              "offline                                                   2\n",
              "weekly bullets                                            2\n",
              "unocal                                                    2\n",
              "opic                                                      2\n",
              "california - emergency authority                          2\n",
              "position papers                                           2\n",
              "merrill lynch                                             2\n",
              "brazil directory                                          2\n",
              "retail operations                                         2\n",
              "assoc_analyst                                             2\n",
              "policies                                                  2\n",
              "ferc reporting reqts                                      2\n",
              "alberta                                                   2\n",
              "corestaff                                                 2\n",
              "issues                                                    2\n",
              "compensation and benefits                                 2\n",
              "sonoco                                                    1\n",
              "ncl                                                       1\n",
              "argentina - holidays                                      1\n",
              "crude and products                                        1\n",
              "municipalities                                            1\n",
              "clean fuels                                               1\n",
              "government affairs                                        1\n",
              "nov00-mar01 deals                                         1\n",
              "icap policy                                               1\n",
              "ferc gas issues                                           1\n",
              "management conference                                     1\n",
              "show cause motion                                         1\n",
              "project sato                                              1\n",
              "investing                                                 1\n",
              "gri-jan 1996                                              1\n",
              "astra                                                     1\n",
              "software                                                  1\n",
              "sparefinders.com                                          1\n",
              "eecc                                                      1\n",
              "personnel - prc 2001 mid yr                               1\n",
              "emerson                                                   1\n",
              "ct corporation                                            1\n",
              "computer associates                                       1\n",
              "arizona                                                   1\n",
              "scorman (non-privileged)                                  1\n",
              "disclosure rules                                          1\n",
              "body shop                                                 1\n",
              "wire signer list                                          1\n",
              "qf's-- risk analysis                                      1\n",
              "dsc                                                       1\n",
              "aa____pending                                             1\n",
              "puerto rico                                               1\n",
              "jay's saved stuff                                         1\n",
              "us sup ct case                                            1\n",
              "pricing                                                   1\n",
              "conoco                                                    1\n",
              "midwest retail delivery                                   1\n",
              "eisb/ubr                                                  1\n",
              "technologyplan                                            1\n",
              "master swap issues                                        1\n",
              "real time                                                 1\n",
              "ge                                                        1\n",
              "mit                                                       1\n",
              "pfg                                                       1\n",
              "natsource                                                 1\n",
              "associations                                              1\n",
              "sun devil expansion                                       1\n",
              "exmerge - scholtes, diana                                 1\n",
              "melodick, kim                                             1\n",
              "keep all e-mail!!!                                        1\n",
              "unread mail                                               1\n",
              "data room                                                 1\n",
              "western governor's university                             1\n",
              "ballot initiative                                         1\n",
              "competition messages                                      1\n",
              "brazil - holidays                                         1\n",
              "bpa                                                       1\n",
              "survey                                                    1\n",
              "atlantis                                                  1\n",
              "training- gov't. affairs                                  1\n",
              "switchpoint                                               1\n",
              "terminations                                              1\n",
              "ui                                                        1\n",
              "volume management                                         1\n",
              "enron accelerator                                         1\n",
              "accomplishments                                           1\n",
              "project notre dame                                        1\n",
              "acquisitions                                              1\n",
              "project springbok                                         1\n",
              "brazil - weekly reports                                   1\n",
              "staff meetings                                            1\n",
              "npdes stormwater                                          1\n",
              "tw lft                                                    1\n",
              "cristobal                                                 1\n",
              "meh new projects                                          1\n",
              "expense system                                            1\n",
              "market structure  task force                              1\n",
              "forney                                                    1\n",
              "southwest environmental team                              1\n",
              "ocd                                                       1\n",
              "alliance                                                  1\n",
              "ubs benefits                                              1\n",
              "personnel - ava's duties                                  1\n",
              "india - derivatives                                       1\n",
              "jennifer                                                  1\n",
              "argentina-tax                                             1\n",
              "lorraine's files                                          1\n",
              "spp                                                       1\n",
              "sample forms                                              1\n",
              "computers                                                 1\n",
              "ja                                                        1\n",
              "mbr / market power                                        1\n",
              "cas                                                       1\n",
              "guadalupe                                                 1\n",
              "lockridge remediation                                     1\n",
              "dra                                                       1\n",
              "archieves coal news                                       1\n",
              "stationery                                                1\n",
              "tropical storm allison                                    1\n",
              "investments                                               1\n",
              "customer - ena                                            1\n",
              "nyiso                                                     1\n",
              "guaranties                                                1\n",
              "jeff nogid                                                1\n",
              "day rate                                                  1\n",
              "pba's                                                     1\n",
              "basin electric                                            1\n",
              "israel estrada                                            1\n",
              "sempre                                                    1\n",
              "ldwp                                                      1\n",
              "chinesewallspolicy                                        1\n",
              "mike reynolds                                             1\n",
              "strategic model                                           1\n",
              "rotation                                                  1\n",
              "stock options                                             1\n",
              "acctg - invoicing info                                    1\n",
              "gulf south                                                1\n",
              "negctc                                                    1\n",
              "trader guidelines                                         1\n",
              "play group                                                1\n",
              "personnel - working from home                             1\n",
              "bid/ask1                                                  1\n",
              "weekly report                                             1\n",
              "announcements                                             1\n",
              "bergseiker                                                1\n",
              "lavorato, john                                            1\n",
              "consulting ag                                             1\n",
              "speaking engagements                                      1\n",
              "recruiters                                                1\n",
              "ubsw online                                               1\n",
              "black hills                                               1\n",
              "nbpl information                                          1\n",
              "enron power                                               1\n",
              "policy papers                                             1\n",
              "flash                                                     1\n",
              "games/music                                               1\n",
              "jblock                                                    1\n",
              "powercontracts                                            1\n",
              "lonestar                                                  1\n",
              "active international                                      1\n",
              "west virginia                                             1\n",
              "west gas origination                                      1\n",
              "acceptances                                               1\n",
              "cranes                                                    1\n",
              "bell south                                                1\n",
              "system wip                                                1\n",
              "pros                                                      1\n",
              "2001 assoc mid year                                       1\n",
              "government affairs group reports                          1\n",
              "coe2                                                      1\n",
              "company options                                           1\n",
              "insurance call spread                                     1\n",
              "indian trading                                            1\n",
              "budget - 2001                                             1\n",
              "desert crossing storage                                   1\n",
              "miscellaneous                                             1\n",
              "nepco                                                     1\n",
              "bailey, s.                                                1\n",
              "houston                                                   1\n",
              "cge                                                       1\n",
              "john memos                                                1\n",
              "pac                                                       1\n",
              "cooper cameron                                            1\n",
              "demarc allocation                                         1\n",
              "delmarva                                                  1\n",
              "kingman heat recovery                                     1\n",
              "westvaco                                                  1\n",
              "ethink                                                    1\n",
              "tw park & ride                                            1\n",
              "cousins                                                   1\n",
              "business objects                                          1\n",
              "counterparty names                                        1\n",
              "earnings releases                                         1\n",
              "union gas                                                 1\n",
              "water                                                     1\n",
              "outages                                                   1\n",
              "daily updates - 12/1/01                                   1\n",
              "c/s no. 6 remediation                                     1\n",
              "europe-august                                             1\n",
              "deal communication                                        1\n",
              "environment - montreal                                    1\n",
              "puhca                                                     1\n",
              "bush administration                                       1\n",
              "con ed                                                    1\n",
              "merger                                                    1\n",
              "republican leadership                                     1\n",
              "tw - procedures                                           1\n",
              "credit union                                              1\n",
              "atoka 3 c_s                                               1\n",
              "gas deals                                                 1\n",
              "performancematters                                        1\n",
              "transportation market                                     1\n",
              "interconnect agreement sample                             1\n",
              "gpg ops                                                   1\n",
              "tw - marketing                                            1\n",
              "congrats                                                  1\n",
              "structured supply                                         1\n",
              "confirms - interest rate                                  1\n",
              "mileage expense                                           1\n",
              "tw throughput analysis                                    1\n",
              "socalgas                                                  1\n",
              "brazilian arbitration                                     1\n",
              "enron europe                                              1\n",
              "mlokay (non-privileged)                                   1\n",
              "west var                                                  1\n",
              "roseman creek                                             1\n",
              "washington office                                         1\n",
              "pg&eplanofreorg                                           1\n",
              "email                                                     1\n",
              "michelle schultz                                          1\n",
              "netco estate                                              1\n",
              "crisis                                                    1\n",
              "favorites                                                 1\n",
              "nbpl                                                      1\n",
              "advisory board on electricity and the environment         1\n",
              "colorado intrastate                                       1\n",
              "portcalc requests                                         1\n",
              "knauf                                                     1\n",
              "synfuel                                                   1\n",
              "aga storage report                                        1\n",
              "environmental                                             1\n",
              "mergers                                                   1\n",
              "move stuff                                                1\n",
              "egas                                                      1\n",
              "africa                                                    1\n",
              "project grandslam                                         1\n",
              "trades                                                    1\n",
              "holidays                                                  1\n",
              "globalassets                                              1\n",
              "bancone                                                   1\n",
              "need to read                                              1\n",
              "computer                                                  1\n",
              "hunting/fishing                                           1\n",
              "enron corp. board                                         1\n",
              "argen. local form                                         1\n",
              "california - demand buydown                               1\n",
              "2000 mid year                                             1\n",
              "adaytum                                                   1\n",
              "enron net works                                           1\n",
              "outlook instructions                                      1\n",
              "payroll electronic directions                             1\n",
              "mex-ppa                                                   1\n",
              "bloomfield c_s                                            1\n",
              "preston vpp                                               1\n",
              "exmerge - baughman jr., don                               1\n",
              "exmerge - richey, cooper                                  1\n",
              "alternate delivery by price                               1\n",
              "account assignments                                       1\n",
              "oec                                                       1\n",
              "magruder                                                  1\n",
              "nymex hedge exemptions                                    1\n",
              "ferc westconnect                                          1\n",
              "mba--mpar                                                 1\n",
              "personal travel                                           1\n",
              "asset development                                         1\n",
              "gas accord                                                1\n",
              "new normal dot                                            1\n",
              "renewable power                                           1\n",
              "sarah-joy hunter                                          1\n",
              "reuters                                                   1\n",
              "ees/products                                              1\n",
              "tw map                                                    1\n",
              "msu                                                       1\n",
              "show cause                                                1\n",
              "christmas cards list                                      1\n",
              "corpgen                                                   1\n",
              "tw cas                                                    1\n",
              "ecr                                                       1\n",
              "personnel - promotions                                    1\n",
              "federal emergency                                         1\n",
              "tw hedges                                                 1\n",
              "purchasing                                                1\n",
              "acctg - 2001 new accctg sys                               1\n",
              "argentina - phone list                                    1\n",
              "brazos_tenaska                                            1\n",
              "recs                                                      1\n",
              "clinton energy                                            1\n",
              "temporary export certificates                             1\n",
              "job referals                                              1\n",
              "planning                                                  1\n",
              "public water systems                                      1\n",
              "enroncredit.com                                           1\n",
              "drafts (lotus notes)                                      1\n",
              "forbes                                                    1\n",
              "unions                                                    1\n",
              "pepl                                                      1\n",
              "ces pending                                               1\n",
              "facilities services                                       1\n",
              "i2                                                        1\n",
              "edson                                                     1\n",
              "eesiresponsesrfp                                          1\n",
              "msa revisions                                             1\n",
              "phffu                                                     1\n",
              "star wars                                                 1\n",
              "Name: Folder, dtype: int64"
            ]
          },
          "metadata": {
            "tags": []
          },
          "execution_count": 15
        }
      ]
    },
    {
      "cell_type": "markdown",
      "metadata": {
        "id": "DwfGo3ooNacj"
      },
      "source": [
        "### Extracting the sent folders - ' sent ', ' sent items ', ' 'sent mail '"
      ]
    },
    {
      "cell_type": "code",
      "metadata": {
        "id": "ty1bnvJb4xwt"
      },
      "source": [
        "sent = mail[mail['Folder']=='sent']"
      ],
      "execution_count": null,
      "outputs": []
    },
    {
      "cell_type": "code",
      "metadata": {
        "id": "w484CLsk5P7G"
      },
      "source": [
        "sent_items = mail[mail['Folder']=='sent items']"
      ],
      "execution_count": null,
      "outputs": []
    },
    {
      "cell_type": "code",
      "metadata": {
        "id": "iRKtPxBs4b6z"
      },
      "source": [
        "sent_mail = mail[mail['Folder']==\"'sent mail\"]"
      ],
      "execution_count": null,
      "outputs": []
    },
    {
      "cell_type": "code",
      "metadata": {
        "id": "FShDdcQ15oas"
      },
      "source": [
        "df_rough = pd.concat([sent,sent_items], ignore_index=True)"
      ],
      "execution_count": null,
      "outputs": []
    },
    {
      "cell_type": "code",
      "metadata": {
        "id": "YR4hsQpT8NHD"
      },
      "source": [
        "df_main = pd.concat([df_rough,sent_mail], ignore_index=True)"
      ],
      "execution_count": null,
      "outputs": []
    },
    {
      "cell_type": "code",
      "metadata": {
        "colab": {
          "base_uri": "https://localhost:8080/"
        },
        "id": "yGDbgmow8d9g",
        "outputId": "74a6a9fd-39ce-4c2f-9833-1c33959150b7"
      },
      "source": [
        "df_main.shape"
      ],
      "execution_count": null,
      "outputs": [
        {
          "output_type": "execute_result",
          "data": {
            "text/plain": [
              "(126325, 2)"
            ]
          },
          "metadata": {
            "tags": []
          },
          "execution_count": 21
        }
      ]
    },
    {
      "cell_type": "code",
      "metadata": {
        "id": "0AqjKlP88QFp"
      },
      "source": [
        "email_subset = df_main.sample(frac=0.08, random_state=1)"
      ],
      "execution_count": null,
      "outputs": []
    },
    {
      "cell_type": "code",
      "metadata": {
        "colab": {
          "base_uri": "https://localhost:8080/"
        },
        "id": "A1Aoe0m78vL9",
        "outputId": "687d65b0-4540-4017-da3b-0b6397db43f8"
      },
      "source": [
        "email_subset.shape"
      ],
      "execution_count": null,
      "outputs": [
        {
          "output_type": "execute_result",
          "data": {
            "text/plain": [
              "(10106, 2)"
            ]
          },
          "metadata": {
            "tags": []
          },
          "execution_count": 23
        }
      ]
    },
    {
      "cell_type": "code",
      "metadata": {
        "id": "vrfWLfjy9Sg_"
      },
      "source": [
        "df = email_subset.copy(deep = True)"
      ],
      "execution_count": null,
      "outputs": []
    },
    {
      "cell_type": "code",
      "metadata": {
        "colab": {
          "base_uri": "https://localhost:8080/",
          "height": 203
        },
        "id": "aBp-u6HW9lVW",
        "outputId": "aa832e53-79df-4d5b-f3da-0f6363dc0be7"
      },
      "source": [
        "df.head()"
      ],
      "execution_count": null,
      "outputs": [
        {
          "output_type": "execute_result",
          "data": {
            "text/html": [
              "<div>\n",
              "<style scoped>\n",
              "    .dataframe tbody tr th:only-of-type {\n",
              "        vertical-align: middle;\n",
              "    }\n",
              "\n",
              "    .dataframe tbody tr th {\n",
              "        vertical-align: top;\n",
              "    }\n",
              "\n",
              "    .dataframe thead th {\n",
              "        text-align: right;\n",
              "    }\n",
              "</style>\n",
              "<table border=\"1\" class=\"dataframe\">\n",
              "  <thead>\n",
              "    <tr style=\"text-align: right;\">\n",
              "      <th></th>\n",
              "      <th>Body</th>\n",
              "      <th>Folder</th>\n",
              "    </tr>\n",
              "  </thead>\n",
              "  <tbody>\n",
              "    <tr>\n",
              "      <th>109126</th>\n",
              "      <td>Seve,\\n\\nVicky worked for Risk Conferences in ...</td>\n",
              "      <td>'sent mail</td>\n",
              "    </tr>\n",
              "    <tr>\n",
              "      <th>62000</th>\n",
              "      <td>Who will get them?  I am happy to sit down wit...</td>\n",
              "      <td>sent items</td>\n",
              "    </tr>\n",
              "    <tr>\n",
              "      <th>70989</th>\n",
              "      <td>Pursuant to Frank Sayre's request, I am attach...</td>\n",
              "      <td>sent items</td>\n",
              "    </tr>\n",
              "    <tr>\n",
              "      <th>30536</th>\n",
              "      <td>what room?\\nPL</td>\n",
              "      <td>sent</td>\n",
              "    </tr>\n",
              "    <tr>\n",
              "      <th>90425</th>\n",
              "      <td>Lloyd/Rika,\\n\\nKevin has asked me to be the co...</td>\n",
              "      <td>sent items</td>\n",
              "    </tr>\n",
              "  </tbody>\n",
              "</table>\n",
              "</div>"
            ],
            "text/plain": [
              "                                                     Body      Folder\n",
              "109126  Seve,\\n\\nVicky worked for Risk Conferences in ...  'sent mail\n",
              "62000   Who will get them?  I am happy to sit down wit...  sent items\n",
              "70989   Pursuant to Frank Sayre's request, I am attach...  sent items\n",
              "30536                                      what room?\\nPL        sent\n",
              "90425   Lloyd/Rika,\\n\\nKevin has asked me to be the co...  sent items"
            ]
          },
          "metadata": {
            "tags": []
          },
          "execution_count": 25
        }
      ]
    },
    {
      "cell_type": "code",
      "metadata": {
        "colab": {
          "base_uri": "https://localhost:8080/"
        },
        "id": "aFoif2zT9pPP",
        "outputId": "d21d4aa9-d738-4bcb-f51a-d60630ed1ba0"
      },
      "source": [
        "df.shape"
      ],
      "execution_count": null,
      "outputs": [
        {
          "output_type": "execute_result",
          "data": {
            "text/plain": [
              "(10106, 2)"
            ]
          },
          "metadata": {
            "tags": []
          },
          "execution_count": 26
        }
      ]
    },
    {
      "cell_type": "code",
      "metadata": {
        "id": "28eFvYVb2b0C"
      },
      "source": [],
      "execution_count": null,
      "outputs": []
    },
    {
      "cell_type": "code",
      "metadata": {
        "id": "yhr3eYrx2bqX"
      },
      "source": [],
      "execution_count": null,
      "outputs": []
    },
    {
      "cell_type": "markdown",
      "metadata": {
        "id": "BrDdVrFmmAwt"
      },
      "source": [
        "### Data Cleaning"
      ]
    },
    {
      "cell_type": "code",
      "metadata": {
        "id": "QdayYXVvmExs"
      },
      "source": [
        "# Removing forwarded by\n",
        "def deal_forwarded(Body):\n",
        "    condition = '[- ]*Forwarded by[\\S\\s]*Subject:[\\S\\t ]*'\n",
        "    return re.sub(condition, '', Body).strip()\n",
        "df['Body']= df.Body.map(deal_forwarded)"
      ],
      "execution_count": null,
      "outputs": []
    },
    {
      "cell_type": "code",
      "metadata": {
        "id": "J3nyhmbBw0hN"
      },
      "source": [
        "# Expanding the contractions\n",
        "def expand_contractions(Body):\n",
        "  column = []\n",
        "  Apos_dict={\"'s\":\" is\",\"n't\":\" not\",\"'m\":\" am\",\"'ll\":\" will\",\n",
        "             \"'d\":\" would\",\"'ve\":\" have\",\"'re\":\" are\"}\n",
        "\n",
        "  for file in df['Body']:\n",
        "    for key,value in Apos_dict.items():\n",
        "      if key in file:\n",
        "        file = file.replace(key,value)\n",
        "    column.append(file)\n",
        "\n",
        "  return column\n",
        "\n",
        "df['Body'] = expand_contractions([df['Body']])"
      ],
      "execution_count": null,
      "outputs": []
    },
    {
      "cell_type": "code",
      "metadata": {
        "id": "3D2hsUOdmH3t"
      },
      "source": [
        "# Removing email\n",
        "def remove_email(body):\n",
        "  column = []\n",
        "  for file in df['Body']:\n",
        "   pattern = re.compile(r'[a-zA-Z0-9._+-]+@[a-zA-Z0-9]+\\.[a-zA-Z.]+')\n",
        "   column.append(re.sub(pattern,' ',file))\n",
        "  return column\n",
        "\n",
        "df['Body'] = remove_email([df['Body']])"
      ],
      "execution_count": null,
      "outputs": []
    },
    {
      "cell_type": "code",
      "metadata": {
        "id": "3U4mlLGTmHso"
      },
      "source": [
        "#Removing special characters\n",
        "def remove_spec_characters(body):\n",
        "  column = []\n",
        "  for file in df['Body']:\n",
        "   pattern = re.compile(r'(^\\w\\s)|(\\W)')\n",
        "   column.append(re.sub(pattern,' ',file))\n",
        "  return column\n",
        "\n",
        "df['Body'] = remove_spec_characters([df['Body']])"
      ],
      "execution_count": null,
      "outputs": []
    },
    {
      "cell_type": "code",
      "metadata": {
        "id": "5M9pIPmKm8Kf"
      },
      "source": [
        "# Decapitalizing the body\n",
        "df['Body'] = hero.preprocessing.lowercase(df['Body'])"
      ],
      "execution_count": null,
      "outputs": []
    },
    {
      "cell_type": "code",
      "metadata": {
        "id": "j1M4CbhrSB6O"
      },
      "source": [
        "#Removing url\n",
        "df['Body'] = hero.preprocessing.remove_urls(df['Body'])"
      ],
      "execution_count": null,
      "outputs": []
    },
    {
      "cell_type": "code",
      "metadata": {
        "id": "4R9PjZGZSMCi"
      },
      "source": [
        "#Removing html tags\n",
        "df['Body'] = hero.preprocessing.remove_html_tags(df['Body'])"
      ],
      "execution_count": null,
      "outputs": []
    },
    {
      "cell_type": "code",
      "metadata": {
        "id": "dlxDvHXvSZfp"
      },
      "source": [
        "#Removing brackets\n",
        "df['Body'] = hero.preprocessing.remove_brackets(df['Body'])"
      ],
      "execution_count": null,
      "outputs": []
    },
    {
      "cell_type": "code",
      "metadata": {
        "id": "nEhG_EZfnV6L"
      },
      "source": [
        "# Removing digits\n",
        "df['Body']  = hero.remove_digits(df['Body'])"
      ],
      "execution_count": null,
      "outputs": []
    },
    {
      "cell_type": "code",
      "metadata": {
        "id": "2nh6mtlnnVzT"
      },
      "source": [
        "# Removing whitespace\n",
        "df['Body'] = hero.remove_whitespace(df['Body'])"
      ],
      "execution_count": null,
      "outputs": []
    },
    {
      "cell_type": "code",
      "metadata": {
        "colab": {
          "base_uri": "https://localhost:8080/",
          "height": 203
        },
        "id": "siIVhwAmBAPG",
        "outputId": "7185fbc5-dd00-4db7-d0ed-052d1ba158df"
      },
      "source": [
        "df.tail()"
      ],
      "execution_count": null,
      "outputs": [
        {
          "output_type": "execute_result",
          "data": {
            "text/html": [
              "<div>\n",
              "<style scoped>\n",
              "    .dataframe tbody tr th:only-of-type {\n",
              "        vertical-align: middle;\n",
              "    }\n",
              "\n",
              "    .dataframe tbody tr th {\n",
              "        vertical-align: top;\n",
              "    }\n",
              "\n",
              "    .dataframe thead th {\n",
              "        text-align: right;\n",
              "    }\n",
              "</style>\n",
              "<table border=\"1\" class=\"dataframe\">\n",
              "  <thead>\n",
              "    <tr style=\"text-align: right;\">\n",
              "      <th></th>\n",
              "      <th>Body</th>\n",
              "      <th>Folder</th>\n",
              "    </tr>\n",
              "  </thead>\n",
              "  <tbody>\n",
              "    <tr>\n",
              "      <th>82023</th>\n",
              "      <td>gary attached is the previously discussed gisb...</td>\n",
              "      <td>sent items</td>\n",
              "    </tr>\n",
              "    <tr>\n",
              "      <th>41465</th>\n",
              "      <td>that is fine just let me know when you want to...</td>\n",
              "      <td>sent</td>\n",
              "    </tr>\n",
              "    <tr>\n",
              "      <th>46007</th>\n",
              "      <td>sugarbooger looks like continental is our best...</td>\n",
              "      <td>sent</td>\n",
              "    </tr>\n",
              "    <tr>\n",
              "      <th>67193</th>\n",
              "      <td>madhup here is some more specific detail as pr...</td>\n",
              "      <td>sent items</td>\n",
              "    </tr>\n",
              "    <tr>\n",
              "      <th>87969</th>\n",
              "      <td>jorge please read paragraph of the termination...</td>\n",
              "      <td>sent items</td>\n",
              "    </tr>\n",
              "  </tbody>\n",
              "</table>\n",
              "</div>"
            ],
            "text/plain": [
              "                                                    Body      Folder\n",
              "82023  gary attached is the previously discussed gisb...  sent items\n",
              "41465  that is fine just let me know when you want to...        sent\n",
              "46007  sugarbooger looks like continental is our best...        sent\n",
              "67193  madhup here is some more specific detail as pr...  sent items\n",
              "87969  jorge please read paragraph of the termination...  sent items"
            ]
          },
          "metadata": {
            "tags": []
          },
          "execution_count": 39
        }
      ]
    },
    {
      "cell_type": "code",
      "metadata": {
        "id": "0oC6cUTArlJI"
      },
      "source": [],
      "execution_count": null,
      "outputs": []
    },
    {
      "cell_type": "code",
      "metadata": {
        "id": "YHU5hUsWyyOy"
      },
      "source": [],
      "execution_count": null,
      "outputs": []
    },
    {
      "cell_type": "markdown",
      "metadata": {
        "id": "7f5BHTeLQnAS"
      },
      "source": [
        "### Data Pre-Processing"
      ]
    },
    {
      "cell_type": "code",
      "metadata": {
        "id": "WVwfA-wdP5Y4"
      },
      "source": [
        "# Converting email body to list\n",
        "data = df.Body.values.tolist()"
      ],
      "execution_count": null,
      "outputs": []
    },
    {
      "cell_type": "code",
      "metadata": {
        "id": "o0TYdXuYYndF"
      },
      "source": [
        "# Tokenization\n",
        "def tokenization(sentences):\n",
        "    for sentence in sentences:\n",
        "        yield(gensim.utils.simple_preprocess(str(sentence), deacc=True))"
      ],
      "execution_count": null,
      "outputs": []
    },
    {
      "cell_type": "code",
      "metadata": {
        "id": "YBFRM-klYwA2"
      },
      "source": [
        "#Creating a list\n",
        "data_words = list(tokenization(data))"
      ],
      "execution_count": null,
      "outputs": []
    },
    {
      "cell_type": "code",
      "metadata": {
        "id": "onhy6KqNZLcH"
      },
      "source": [
        "# Removing stop words\n",
        "def remove_stopwords(texts):\n",
        "    return [[word for word in simple_preprocess(str(doc)) if word not in stop_words] for doc in texts]\n",
        "\n",
        "\n",
        "data_words_nostops = remove_stopwords(data_words)"
      ],
      "execution_count": null,
      "outputs": []
    },
    {
      "cell_type": "code",
      "metadata": {
        "id": "S-IP_LA5YJDp"
      },
      "source": [
        "# Making bigrams\n",
        "bigram = Phrases(data_words, min_count=5, threshold=100)\n",
        "\n",
        "def make_bigrams(texts):\n",
        "    return [bigram[doc] for doc in texts]\n",
        "\n",
        "\n",
        "data_words_bigrams = make_bigrams(data_words_nostops)"
      ],
      "execution_count": null,
      "outputs": []
    },
    {
      "cell_type": "code",
      "metadata": {
        "id": "PSo281CZZV1j"
      },
      "source": [],
      "execution_count": null,
      "outputs": []
    },
    {
      "cell_type": "code",
      "metadata": {
        "id": "w8xlJqfVYLNy"
      },
      "source": [
        "# Lemmatization\n",
        "\n",
        "# Initializing spaCy 'en' model, keeping only tagger component\n",
        "nlp = spacy.load('en', disable=['parser', 'ner'])\n",
        "\n",
        "def lemmatization(texts, allowed_postags=['NOUN', 'ADJ', 'VERB', 'ADV']):\n",
        "    \"\"\"https://spacy.io/api/annotation\"\"\"\n",
        "    texts_out = []\n",
        "    for sent in texts:\n",
        "        doc = nlp(\" \".join(sent))\n",
        "        texts_out.append([token.lemma_ for token in doc if token.pos_ in allowed_postags])\n",
        "    return texts_out\n",
        "\n",
        "# Lemmatizing only noun, adj, vb, adv\n",
        "data_lemmatized = lemmatization(data_words_bigrams, allowed_postags=['NOUN', 'ADJ', 'VERB', 'ADV'])"
      ],
      "execution_count": null,
      "outputs": []
    },
    {
      "cell_type": "code",
      "metadata": {
        "id": "Zl7gD3PzZvFx"
      },
      "source": [],
      "execution_count": null,
      "outputs": []
    },
    {
      "cell_type": "code",
      "metadata": {
        "id": "9clv-idK2hxn"
      },
      "source": [],
      "execution_count": null,
      "outputs": []
    },
    {
      "cell_type": "code",
      "metadata": {
        "id": "OSr_VNx62hpu"
      },
      "source": [],
      "execution_count": null,
      "outputs": []
    },
    {
      "cell_type": "markdown",
      "metadata": {
        "id": "kTopdHbchHoG"
      },
      "source": [
        "### Model Building"
      ]
    },
    {
      "cell_type": "code",
      "metadata": {
        "id": "1_eNn1nxZ0Ts"
      },
      "source": [
        "# Creating dictionary and corpus\n",
        "# Create Dictionary\n",
        "id2word = corpora.Dictionary(data_lemmatized)\n",
        "\n",
        "# Create Corpus\n",
        "texts = data_lemmatized"
      ],
      "execution_count": null,
      "outputs": []
    },
    {
      "cell_type": "code",
      "metadata": {
        "id": "wiBukPdxivuV"
      },
      "source": [
        "# Building Bag of words model\n",
        "corpus = [id2word.doc2bow(text) for text in texts]"
      ],
      "execution_count": null,
      "outputs": []
    },
    {
      "cell_type": "markdown",
      "metadata": {
        "id": "_Y8tVa6UqqhV"
      },
      "source": [
        "### Building Bag of Words LDA model"
      ]
    },
    {
      "cell_type": "code",
      "metadata": {
        "id": "MT1pX5EjQQ0I"
      },
      "source": [
        "# Build LDA model\n",
        "lda_model_1 = gensim.models.ldamodel.LdaModel(corpus=corpus,\n",
        "                                           id2word=id2word,\n",
        "                                           num_topics=10,\n",
        "                                           random_state=100,\n",
        "                                           update_every=1,\n",
        "                                           chunksize=100,\n",
        "                                           passes=10,\n",
        "                                           alpha='auto',\n",
        "                                           per_word_topics=True)"
      ],
      "execution_count": null,
      "outputs": []
    },
    {
      "cell_type": "code",
      "metadata": {
        "colab": {
          "base_uri": "https://localhost:8080/"
        },
        "id": "C6A2EzXARKN3",
        "outputId": "2ccbfddf-4704-4af0-82cd-d99215a89fbb"
      },
      "source": [
        "pprint(lda_model_1.print_topics())\n",
        "doc_lda = lda_model_1[corpus]"
      ],
      "execution_count": null,
      "outputs": [
        {
          "output_type": "stream",
          "text": [
            "[(0,\n",
            "  '0.029*\"transaction\" + 0.027*\"option\" + 0.025*\"termination\" + '\n",
            "  '0.023*\"product\" + 0.020*\"credit\" + 0.017*\"financial\" + 0.013*\"stop\" + '\n",
            "  '0.013*\"approve\" + 0.013*\"trading\" + 0.012*\"average\"'),\n",
            " (1,\n",
            "  '0.043*\"go\" + 0.022*\"get\" + 0.018*\"say\" + 0.016*\"come\" + 0.016*\"live\" + '\n",
            "  '0.015*\"take\" + 0.014*\"good\" + 0.013*\"home\" + 0.013*\"really\" + 0.010*\"make\"'),\n",
            " (2,\n",
            "  '0.177*\"send\" + 0.159*\"message\" + 0.122*\"original\" + 0.037*\"pm\" + '\n",
            "  '0.025*\"mail\" + 0.015*\"may\" + 0.013*\"weekend\" + 0.010*\"offer\" + '\n",
            "  '0.009*\"receive\" + 0.008*\"bill\"'),\n",
            " (3,\n",
            "  '0.042*\"deal\" + 0.032*\"position\" + 0.024*\"gas\" + 0.022*\"change\" + '\n",
            "  '0.021*\"confirmation\" + 0.020*\"report\" + 0.016*\"month\" + 0.016*\"new\" + '\n",
            "  '0.015*\"day\" + 0.013*\"adjust\"'),\n",
            " (4,\n",
            "  '0.021*\"agreement\" + 0.021*\"attach\" + 0.019*\"file\" + 0.018*\"information\" + '\n",
            "  '0.013*\"receive\" + 0.012*\"regard\" + 0.012*\"copy\" + 0.012*\"document\" + '\n",
            "  '0.011*\"contract\" + 0.011*\"mail\"'),\n",
            " (5,\n",
            "  '0.017*\"plant\" + 0.015*\"employee\" + 0.015*\"issue\" + 0.013*\"customer\" + '\n",
            "  '0.012*\"continue\" + 0.012*\"order\" + 0.012*\"include\" + 0.009*\"level\" + '\n",
            "  '0.009*\"increase\" + 0.008*\"site\"'),\n",
            " (6,\n",
            "  '0.033*\"com\" + 0.017*\"group\" + 0.016*\"year\" + 0.015*\"team\" + '\n",
            "  '0.013*\"business\" + 0.011*\"new\" + 0.010*\"company\" + 0.009*\"hold\" + '\n",
            "  '0.009*\"firm\" + 0.009*\"event\"'),\n",
            " (7,\n",
            "  '0.036*\"would\" + 0.034*\"thank\" + 0.033*\"know\" + 0.025*\"let\" + 0.021*\"want\" + '\n",
            "  '0.018*\"need\" + 0.017*\"call\" + 0.017*\"work\" + 0.016*\"time\" + 0.015*\"get\"'),\n",
            " (8,\n",
            "  '0.032*\"stock\" + 0.023*\"summer\" + 0.017*\"station\" + 0.016*\"bet\" + '\n",
            "  '0.016*\"director\" + 0.015*\"clause\" + 0.015*\"east\" + 0.014*\"consume\" + '\n",
            "  '0.014*\"friend\" + 0.012*\"nuclear\"'),\n",
            " (9,\n",
            "  '0.035*\"market\" + 0.032*\"power\" + 0.031*\"price\" + 0.022*\"energy\" + '\n",
            "  '0.018*\"company\" + 0.015*\"cost\" + 0.015*\"state\" + 0.014*\"say\" + 0.013*\"rate\" '\n",
            "  '+ 0.013*\"high\"')]\n"
          ],
          "name": "stdout"
        }
      ]
    },
    {
      "cell_type": "code",
      "metadata": {
        "colab": {
          "base_uri": "https://localhost:8080/"
        },
        "id": "0qC6-pZTa6RK",
        "outputId": "0fa0d344-06c2-4a9f-f083-0d2eb2a4ccbc"
      },
      "source": [
        "# Perplexity\n",
        "print('Perplexity: ', lda_model_1.log_perplexity(corpus))"
      ],
      "execution_count": null,
      "outputs": [
        {
          "output_type": "stream",
          "text": [
            "Perplexity:  -7.787832104704934\n"
          ],
          "name": "stdout"
        }
      ]
    },
    {
      "cell_type": "code",
      "metadata": {
        "colab": {
          "base_uri": "https://localhost:8080/"
        },
        "id": "PjmCf6vsfuiT",
        "outputId": "ef701dd9-4a86-4199-8d51-4342fb8b2307"
      },
      "source": [
        "# Coherence Score\n",
        "coherence_model_lda = CoherenceModel(model=lda_model_1, texts=data_lemmatized, dictionary=id2word, coherence='c_v')\n",
        "coherence_lda = coherence_model_lda.get_coherence()\n",
        "print('Coherence Score: ', coherence_lda)"
      ],
      "execution_count": null,
      "outputs": [
        {
          "output_type": "stream",
          "text": [
            "Coherence Score:  0.4607617170825874\n"
          ],
          "name": "stdout"
        }
      ]
    },
    {
      "cell_type": "code",
      "metadata": {
        "id": "eMk_LXj1TKYf"
      },
      "source": [],
      "execution_count": null,
      "outputs": []
    },
    {
      "cell_type": "code",
      "metadata": {
        "id": "Q6ANOSW8TKQS"
      },
      "source": [],
      "execution_count": null,
      "outputs": []
    },
    {
      "cell_type": "markdown",
      "metadata": {
        "id": "rIIAguqMyg40"
      },
      "source": [
        "### Building Tf-idf LDA model"
      ]
    },
    {
      "cell_type": "code",
      "metadata": {
        "id": "YsuCnLAAdQn7"
      },
      "source": [
        "# Building Tf-idf LDA model\n",
        "\n",
        "from gensim import corpora, models\n",
        "\n",
        "tfidf = models.TfidfModel(corpus)\n",
        "corpus_tfidf = tfidf[corpus]"
      ],
      "execution_count": null,
      "outputs": []
    },
    {
      "cell_type": "code",
      "metadata": {
        "id": "LpBmKsL1uMtc"
      },
      "source": [
        "lda_model_tfidf = gensim.models.ldamodel.LdaModel(corpus = corpus_tfidf,\n",
        "                                                  id2word = id2word,\n",
        "                                                  num_topics = 10,\n",
        "                                                  random_state = 100,\n",
        "                                                  chunksize = 100,\n",
        "                                                  passes = 10,\n",
        "                                                  per_word_topics = True)"
      ],
      "execution_count": null,
      "outputs": []
    },
    {
      "cell_type": "code",
      "metadata": {
        "colab": {
          "base_uri": "https://localhost:8080/"
        },
        "id": "h5u1NIalYhZF",
        "outputId": "00a9fcfc-c772-44aa-b4d4-031bb02708cb"
      },
      "source": [
        "pprint(lda_model_tfidf.print_topics())\n",
        "doc_lda = lda_model_tfidf[corpus]"
      ],
      "execution_count": null,
      "outputs": [
        {
          "output_type": "stream",
          "text": [
            "[(0,\n",
            "  '0.017*\"confirmation\" + 0.016*\"position\" + 0.016*\"ticket\" + 0.010*\"hold\" + '\n",
            "  '0.010*\"right\" + 0.009*\"attend\" + 0.008*\"season\" + 0.008*\"sell\" + '\n",
            "  '0.008*\"can\" + 0.008*\"move\"'),\n",
            " (1,\n",
            "  '0.013*\"late\" + 0.011*\"easy\" + 0.010*\"stay\" + 0.009*\"page\" + 0.008*\"wo\" + '\n",
            "  '0.008*\"stuff\" + 0.008*\"evening\" + 0.007*\"pretty\" + 0.007*\"catch\" + '\n",
            "  '0.007*\"phone_fax\"'),\n",
            " (2,\n",
            "  '0.010*\"go\" + 0.009*\"know\" + 0.009*\"send\" + 0.009*\"thank\" + 0.009*\"want\" + '\n",
            "  '0.009*\"message\" + 0.008*\"let\" + 0.008*\"original\" + 0.008*\"take\" + '\n",
            "  '0.007*\"would\"'),\n",
            " (3,\n",
            "  '0.013*\"response\" + 0.012*\"never\" + 0.011*\"pdx\" + 0.011*\"chance\" + '\n",
            "  '0.009*\"advise\" + 0.008*\"forget\" + 0.007*\"course\" + 0.007*\"different\" + '\n",
            "  '0.007*\"broker\" + 0.007*\"handle\"'),\n",
            " (4,\n",
            "  '0.053*\"minute\" + 0.013*\"volume\" + 0.011*\"show\" + 0.011*\"cell\" + '\n",
            "  '0.010*\"manage\" + 0.009*\"individual\" + 0.009*\"memo\" + 0.009*\"speak\" + '\n",
            "  '0.008*\"station\" + 0.008*\"handheld_www\"'),\n",
            " (5,\n",
            "  '0.016*\"update\" + 0.013*\"approve\" + 0.011*\"plant\" + 0.010*\"average\" + '\n",
            "  '0.009*\"worthless\" + 0.006*\"recipient\" + 0.006*\"clean\" + 0.006*\"load\" + '\n",
            "  '0.006*\"property\" + 0.005*\"logistic\"'),\n",
            " (6,\n",
            "  '0.016*\"bet\" + 0.014*\"little\" + 0.014*\"resume\" + 0.013*\"remember\" + '\n",
            "  '0.012*\"close\" + 0.011*\"join\" + 0.010*\"event\" + 0.010*\"word\" + 0.010*\"head\" '\n",
            "  '+ 0.008*\"busy\"'),\n",
            " (7,\n",
            "  '0.011*\"fax\" + 0.011*\"agreement\" + 0.009*\"document\" + 0.008*\"attach\" + '\n",
            "  '0.007*\"fine\" + 0.007*\"file\" + 0.007*\"mail\" + 0.007*\"version\" + '\n",
            "  '0.007*\"termination\" + 0.006*\"final\"'),\n",
            " (8,\n",
            "  '0.010*\"drive\" + 0.008*\"director\" + 0.008*\"member\" + 0.007*\"summer\" + '\n",
            "  '0.007*\"molly\" + 0.006*\"become\" + 0.005*\"wife\" + 0.005*\"earlier\" + '\n",
            "  '0.005*\"baby\" + 0.005*\"explain\"'),\n",
            " (9,\n",
            "  '0.009*\"hourly\" + 0.009*\"terminate\" + 0.008*\"really\" + 0.007*\"energy\" + '\n",
            "  '0.007*\"high\" + 0.007*\"slightly\" + 0.006*\"project\" + 0.006*\"risk\" + '\n",
            "  '0.006*\"job\" + 0.005*\"purchase\"')]\n"
          ],
          "name": "stdout"
        }
      ]
    },
    {
      "cell_type": "code",
      "metadata": {
        "colab": {
          "base_uri": "https://localhost:8080/"
        },
        "id": "n8CakpTPYmz3",
        "outputId": "f31d8d4e-3c0e-42a4-d7b2-4f2a33ff3d26"
      },
      "source": [
        "# Perplexity\n",
        "print('\\nPerplexity: ', lda_model_tfidf.log_perplexity(corpus_tfidf))"
      ],
      "execution_count": null,
      "outputs": [
        {
          "output_type": "stream",
          "text": [
            "\n",
            "Perplexity:  -10.735637358827105\n"
          ],
          "name": "stdout"
        }
      ]
    },
    {
      "cell_type": "code",
      "metadata": {
        "colab": {
          "base_uri": "https://localhost:8080/"
        },
        "id": "BxJ0nHy2Ymld",
        "outputId": "d86216fc-660c-4779-bea0-279237b4be92"
      },
      "source": [
        "# Coherence Score\n",
        "coherence_model_tfidf = CoherenceModel(model=lda_model_tfidf, texts=data_lemmatized, dictionary=id2word, coherence='c_v')\n",
        "coherence_lda_tfidf = coherence_model_tfidf.get_coherence()\n",
        "print('\\nCoherence Score: ', coherence_lda_tfidf)"
      ],
      "execution_count": null,
      "outputs": [
        {
          "output_type": "stream",
          "text": [
            "\n",
            "Coherence Score:  0.3422078142666097\n"
          ],
          "name": "stdout"
        }
      ]
    },
    {
      "cell_type": "code",
      "metadata": {
        "id": "1bhfWsGZY2cv"
      },
      "source": [],
      "execution_count": null,
      "outputs": []
    },
    {
      "cell_type": "code",
      "metadata": {
        "id": "rmR0v1JPY2Le"
      },
      "source": [],
      "execution_count": null,
      "outputs": []
    },
    {
      "cell_type": "code",
      "metadata": {
        "id": "CrUIqiWI1dwb"
      },
      "source": [],
      "execution_count": null,
      "outputs": []
    },
    {
      "cell_type": "code",
      "metadata": {
        "id": "4OWE2llrwk5T"
      },
      "source": [],
      "execution_count": null,
      "outputs": []
    },
    {
      "cell_type": "code",
      "metadata": {
        "id": "UkJaQWA_xj0h"
      },
      "source": [],
      "execution_count": null,
      "outputs": []
    }
  ]
}